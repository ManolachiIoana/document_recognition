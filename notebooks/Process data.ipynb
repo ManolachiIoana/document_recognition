{
 "cells": [
  {
   "cell_type": "code",
   "execution_count": 1,
   "metadata": {},
   "outputs": [
    {
     "name": "stderr",
     "output_type": "stream",
     "text": [
      "Using TensorFlow backend.\n"
     ]
    }
   ],
   "source": [
    "import numpy as np\n",
    "from glob import glob\n",
    "from tqdm import tqdm\n",
    "import matplotlib.pyplot as plt\n",
    "import PIL\n",
    "import cv2\n",
    "import os\n",
    "from keras.utils import np_utils\n",
    "from keras.preprocessing import image\n",
    "from sklearn.datasets import load_files\n",
    "from keras.layers import Conv2D, MaxPooling2D, Dense, Flatten\n",
    "from keras.models import Sequential\n",
    "from keras import optimizers"
   ]
  },
  {
   "cell_type": "code",
   "execution_count": 2,
   "metadata": {},
   "outputs": [],
   "source": [
    "path_to_train_folder = os.path.join(os.path.pardir, \"data\", \"train_images\")\n",
    "path_to_test_folder = os.path.join(os.path.pardir, \"data\", \"test_images\")\n",
    "path_to_validation_folder = os.path.join(os.path.pardir, \"data\", \"valid_images\")"
   ]
  },
  {
   "cell_type": "code",
   "execution_count": 3,
   "metadata": {},
   "outputs": [],
   "source": [
    "#function to laod data from given path\n",
    "def load_dataset(path):\n",
    "    data = load_files(path)\n",
    "    doc_files = np.array(data['filenames'])\n",
    "    doc_targets = np_utils.to_categorical(np.array(data['target']), 16)\n",
    "    return doc_files, doc_targets"
   ]
  },
  {
   "cell_type": "code",
   "execution_count": 4,
   "metadata": {},
   "outputs": [],
   "source": [
    "#Load data from filepaths\n",
    "train_files, train_targets = load_dataset(path_to_train_folder)\n",
    "valid_files, valid_targets = load_dataset(path_to_validation_folder)\n",
    "test_files, test_targets = load_dataset(path_to_test_folder)"
   ]
  },
  {
   "cell_type": "code",
   "execution_count": 5,
   "metadata": {},
   "outputs": [
    {
     "name": "stdout",
     "output_type": "stream",
     "text": [
      "There are 4800 total doc images.\n",
      "\n",
      "There are 3200 training doc images.\n",
      "There are 1600 validation doc images.\n",
      "There are 1600 test doc images.\n"
     ]
    }
   ],
   "source": [
    "#check the dataset\n",
    "print('There are %s total doc images.\\n' % len(np.hstack([train_files, valid_files])))\n",
    "print('There are %d training doc images.' % len(train_files))\n",
    "print('There are %d validation doc images.' % len(valid_files))\n",
    "print('There are %d test doc images.'% len(test_files))"
   ]
  },
  {
   "cell_type": "code",
   "execution_count": 6,
   "metadata": {},
   "outputs": [],
   "source": [
    "#function that converts image into 4D array to facilitate Keras CNN\n",
    "def convert_4darray(img_path):\n",
    "    # loads RGB image\n",
    "    img = image.load_img(img_path, target_size=(224, 224))\n",
    "    # convert PIL.Image.Image type to 3D tensor with shape (224, 224, 3)\n",
    "    x = image.img_to_array(img)\n",
    "    # convert 3D tensor to 4D tensor with shape (1, 224, 224, 3) and return 4D tensor\n",
    "    return np.expand_dims(x, axis=0)"
   ]
  },
  {
   "cell_type": "code",
   "execution_count": 7,
   "metadata": {},
   "outputs": [],
   "source": [
    "#fucntion which converts all images in given path to 4D array for Keras CNN\n",
    "def convert_4darrays(img_paths):\n",
    "    list_of_tensors = [convert_4darray(img_path) for img_path in tqdm(img_paths)]\n",
    "    return np.vstack(list_of_tensors)"
   ]
  },
  {
   "cell_type": "code",
   "execution_count": 8,
   "metadata": {},
   "outputs": [
    {
     "name": "stderr",
     "output_type": "stream",
     "text": [
      "100%|██████████| 3200/3200 [00:17<00:00, 186.98it/s]\n",
      "100%|██████████| 1600/1600 [00:42<00:00, 37.94it/s]\n",
      "100%|██████████| 1600/1600 [00:35<00:00, 45.08it/s]\n"
     ]
    }
   ],
   "source": [
    "#pre-process the data for Keras\n",
    "train_tensors = convert_4darrays(train_files).astype('float32')/255\n",
    "test_tensors = convert_4darrays(test_files).astype('float32')/255\n",
    "valid_tensors = convert_4darrays(valid_files).astype('float32')/255"
   ]
  },
  {
   "cell_type": "code",
   "execution_count": 12,
   "metadata": {},
   "outputs": [
    {
     "name": "stdout",
     "output_type": "stream",
     "text": [
      "Model: \"sequential_1\"\n",
      "_________________________________________________________________\n",
      "Layer (type)                 Output Shape              Param #   \n",
      "=================================================================\n",
      "conv2d_1 (Conv2D)            (None, 224, 224, 32)      2400      \n",
      "_________________________________________________________________\n",
      "max_pooling2d_1 (MaxPooling2 (None, 74, 74, 32)        0         \n",
      "_________________________________________________________________\n",
      "conv2d_2 (Conv2D)            (None, 74, 74, 32)        25632     \n",
      "_________________________________________________________________\n",
      "max_pooling2d_2 (MaxPooling2 (None, 24, 24, 32)        0         \n",
      "_________________________________________________________________\n",
      "conv2d_3 (Conv2D)            (None, 24, 24, 32)        9248      \n",
      "_________________________________________________________________\n",
      "max_pooling2d_3 (MaxPooling2 (None, 8, 8, 32)          0         \n",
      "_________________________________________________________________\n",
      "conv2d_4 (Conv2D)            (None, 8, 8, 32)          9248      \n",
      "_________________________________________________________________\n",
      "conv2d_5 (Conv2D)            (None, 8, 8, 32)          9248      \n",
      "_________________________________________________________________\n",
      "max_pooling2d_4 (MaxPooling2 (None, 2, 2, 32)          0         \n",
      "_________________________________________________________________\n",
      "flatten_1 (Flatten)          (None, 128)               0         \n",
      "_________________________________________________________________\n",
      "dense_1 (Dense)              (None, 32)                4128      \n",
      "_________________________________________________________________\n",
      "dense_2 (Dense)              (None, 32)                1056      \n",
      "_________________________________________________________________\n",
      "dense_3 (Dense)              (None, 16)                528       \n",
      "=================================================================\n",
      "Total params: 61,488\n",
      "Trainable params: 61,488\n",
      "Non-trainable params: 0\n",
      "_________________________________________________________________\n"
     ]
    }
   ],
   "source": [
    "#Model CNN\n",
    "model = Sequential()\n",
    "# Conv layer 1\n",
    "model.add(Conv2D(32, (5, 5), strides=(1, 1), use_bias=False, padding='same', activation='relu', input_shape=(224, 224, 3)))\n",
    "# max pooling layer 1\n",
    "model.add(MaxPooling2D(pool_size=(3, 3), strides=3))\n",
    "\n",
    "# Conv layer 2\n",
    "model.add(Conv2D(32, (5, 5), padding='same', activation='relu'))\n",
    "# Mac pooling layer 2\n",
    "model.add(MaxPooling2D(pool_size=(3, 3), strides=3))\n",
    "\n",
    "# Conv layer 3\n",
    "model.add(Conv2D(32, (3, 3), padding='same', activation='relu'))\n",
    "# Max pooling layer 3\n",
    "model.add(MaxPooling2D(pool_size=(3, 3), strides=3))\n",
    "\n",
    "# Conv layer 4\n",
    "model.add(Conv2D(32, (3, 3), padding='same', activation='relu'))\n",
    "\n",
    "# COnv layer 5\n",
    "model.add(Conv2D(32, (3, 3), padding='same', activation='relu'))\n",
    "# Max pooling layer 4\n",
    "model.add(MaxPooling2D(pool_size=(3, 3), strides=3))\n",
    "\n",
    "# Flatten layer 1\n",
    "model.add(Flatten())\n",
    "model.add(Dense(32, activation='relu'))\n",
    "# Flatter layer 2\n",
    "model.add(Dense(32, activation='relu'))\n",
    "# Predictions\n",
    "model.add(Dense(16, activation='softmax'))\n",
    "\n",
    "# Model summary\n",
    "model.summary()"
   ]
  },
  {
   "cell_type": "code",
   "execution_count": 21,
   "metadata": {},
   "outputs": [
    {
     "name": "stdout",
     "output_type": "stream",
     "text": [
      "Train on 1072 samples, validate on 528 samples\n",
      "Epoch 1/10\n",
      "1072/1072 [==============================] - ETA: 1:03 - loss: 0.0537 - accuracy: 0.15 - ETA: 49s - loss: 0.0541 - accuracy: 0.1797 - ETA: 39s - loss: 0.0540 - accuracy: 0.182 - ETA: 33s - loss: 0.0542 - accuracy: 0.195 - ETA: 29s - loss: 0.0542 - accuracy: 0.190 - ETA: 26s - loss: 0.0538 - accuracy: 0.203 - ETA: 23s - loss: 0.0534 - accuracy: 0.203 - ETA: 20s - loss: 0.0535 - accuracy: 0.203 - ETA: 17s - loss: 0.0532 - accuracy: 0.206 - ETA: 15s - loss: 0.0533 - accuracy: 0.201 - ETA: 12s - loss: 0.0534 - accuracy: 0.203 - ETA: 10s - loss: 0.0536 - accuracy: 0.200 - ETA: 8s - loss: 0.0534 - accuracy: 0.206 - ETA: 5s - loss: 0.0532 - accuracy: 0.21 - ETA: 3s - loss: 0.0532 - accuracy: 0.21 - ETA: 1s - loss: 0.0532 - accuracy: 0.21 - 43s 41ms/step - loss: 0.0531 - accuracy: 0.2192 - val_loss: 0.0559 - val_accuracy: 0.2102\n",
      "Epoch 2/10\n",
      "1072/1072 [==============================] - ETA: 33s - loss: 0.0549 - accuracy: 0.218 - ETA: 31s - loss: 0.0532 - accuracy: 0.257 - ETA: 28s - loss: 0.0528 - accuracy: 0.250 - ETA: 26s - loss: 0.0533 - accuracy: 0.226 - ETA: 23s - loss: 0.0535 - accuracy: 0.212 - ETA: 21s - loss: 0.0535 - accuracy: 0.213 - ETA: 20s - loss: 0.0534 - accuracy: 0.212 - ETA: 18s - loss: 0.0528 - accuracy: 0.220 - ETA: 16s - loss: 0.0524 - accuracy: 0.227 - ETA: 14s - loss: 0.0524 - accuracy: 0.226 - ETA: 12s - loss: 0.0527 - accuracy: 0.223 - ETA: 10s - loss: 0.0529 - accuracy: 0.214 - ETA: 8s - loss: 0.0530 - accuracy: 0.209 - ETA: 5s - loss: 0.0528 - accuracy: 0.21 - ETA: 3s - loss: 0.0528 - accuracy: 0.21 - ETA: 1s - loss: 0.0525 - accuracy: 0.22 - 43s 40ms/step - loss: 0.0522 - accuracy: 0.2276 - val_loss: 0.0542 - val_accuracy: 0.2311\n",
      "Epoch 3/10\n",
      "1072/1072 [==============================] - ETA: 33s - loss: 0.0488 - accuracy: 0.343 - ETA: 31s - loss: 0.0528 - accuracy: 0.289 - ETA: 29s - loss: 0.0521 - accuracy: 0.265 - ETA: 27s - loss: 0.0522 - accuracy: 0.250 - ETA: 25s - loss: 0.0528 - accuracy: 0.237 - ETA: 22s - loss: 0.0530 - accuracy: 0.229 - ETA: 20s - loss: 0.0531 - accuracy: 0.229 - ETA: 18s - loss: 0.0527 - accuracy: 0.230 - ETA: 17s - loss: 0.0526 - accuracy: 0.230 - ETA: 14s - loss: 0.0522 - accuracy: 0.237 - ETA: 12s - loss: 0.0523 - accuracy: 0.237 - ETA: 10s - loss: 0.0517 - accuracy: 0.244 - ETA: 8s - loss: 0.0521 - accuracy: 0.236 - ETA: 6s - loss: 0.0518 - accuracy: 0.24 - ETA: 3s - loss: 0.0514 - accuracy: 0.24 - ETA: 1s - loss: 0.0512 - accuracy: 0.25 - 45s 42ms/step - loss: 0.0512 - accuracy: 0.2556 - val_loss: 0.0532 - val_accuracy: 0.2557\n",
      "Epoch 4/10\n",
      "1072/1072 [==============================] - ETA: 31s - loss: 0.0536 - accuracy: 0.250 - ETA: 30s - loss: 0.0515 - accuracy: 0.250 - ETA: 28s - loss: 0.0520 - accuracy: 0.234 - ETA: 27s - loss: 0.0520 - accuracy: 0.250 - ETA: 25s - loss: 0.0520 - accuracy: 0.243 - ETA: 22s - loss: 0.0515 - accuracy: 0.268 - ETA: 20s - loss: 0.0519 - accuracy: 0.252 - ETA: 18s - loss: 0.0513 - accuracy: 0.259 - ETA: 16s - loss: 0.0513 - accuracy: 0.256 - ETA: 14s - loss: 0.0514 - accuracy: 0.254 - ETA: 12s - loss: 0.0511 - accuracy: 0.258 - ETA: 10s - loss: 0.0510 - accuracy: 0.261 - ETA: 8s - loss: 0.0508 - accuracy: 0.263 - ETA: 5s - loss: 0.0503 - accuracy: 0.27 - ETA: 3s - loss: 0.0502 - accuracy: 0.27 - ETA: 1s - loss: 0.0504 - accuracy: 0.27 - 44s 41ms/step - loss: 0.0505 - accuracy: 0.2724 - val_loss: 0.0530 - val_accuracy: 0.2462\n",
      "Epoch 5/10\n",
      "1072/1072 [==============================] - ETA: 33s - loss: 0.0509 - accuracy: 0.312 - ETA: 31s - loss: 0.0506 - accuracy: 0.296 - ETA: 29s - loss: 0.0518 - accuracy: 0.276 - ETA: 27s - loss: 0.0516 - accuracy: 0.281 - ETA: 24s - loss: 0.0512 - accuracy: 0.284 - ETA: 22s - loss: 0.0504 - accuracy: 0.291 - ETA: 20s - loss: 0.0504 - accuracy: 0.287 - ETA: 18s - loss: 0.0502 - accuracy: 0.289 - ETA: 16s - loss: 0.0503 - accuracy: 0.283 - ETA: 14s - loss: 0.0504 - accuracy: 0.281 - ETA: 12s - loss: 0.0502 - accuracy: 0.282 - ETA: 10s - loss: 0.0500 - accuracy: 0.285 - ETA: 8s - loss: 0.0505 - accuracy: 0.276 - ETA: 6s - loss: 0.0506 - accuracy: 0.27 - ETA: 3s - loss: 0.0504 - accuracy: 0.27 - ETA: 1s - loss: 0.0505 - accuracy: 0.27 - 45s 42ms/step - loss: 0.0503 - accuracy: 0.2771 - val_loss: 0.0529 - val_accuracy: 0.2462\n",
      "Epoch 6/10\n",
      "1072/1072 [==============================] - ETA: 29s - loss: 0.0489 - accuracy: 0.281 - ETA: 27s - loss: 0.0485 - accuracy: 0.312 - ETA: 26s - loss: 0.0486 - accuracy: 0.296 - ETA: 26s - loss: 0.0480 - accuracy: 0.304 - ETA: 25s - loss: 0.0485 - accuracy: 0.290 - ETA: 23s - loss: 0.0482 - accuracy: 0.299 - ETA: 22s - loss: 0.0483 - accuracy: 0.303 - ETA: 20s - loss: 0.0481 - accuracy: 0.302 - ETA: 18s - loss: 0.0488 - accuracy: 0.296 - ETA: 15s - loss: 0.0495 - accuracy: 0.287 - ETA: 13s - loss: 0.0498 - accuracy: 0.284 - ETA: 11s - loss: 0.0496 - accuracy: 0.289 - ETA: 8s - loss: 0.0496 - accuracy: 0.287 - ETA: 6s - loss: 0.0495 - accuracy: 0.28 - ETA: 4s - loss: 0.0493 - accuracy: 0.29 - ETA: 1s - loss: 0.0495 - accuracy: 0.28 - 46s 43ms/step - loss: 0.0493 - accuracy: 0.2938 - val_loss: 0.0524 - val_accuracy: 0.2595\n",
      "Epoch 7/10\n",
      "1072/1072 [==============================] - ETA: 34s - loss: 0.0496 - accuracy: 0.234 - ETA: 31s - loss: 0.0518 - accuracy: 0.257 - ETA: 29s - loss: 0.0506 - accuracy: 0.276 - ETA: 27s - loss: 0.0497 - accuracy: 0.296 - ETA: 25s - loss: 0.0495 - accuracy: 0.293 - ETA: 23s - loss: 0.0494 - accuracy: 0.309 - ETA: 21s - loss: 0.0490 - accuracy: 0.312 - ETA: 19s - loss: 0.0493 - accuracy: 0.314 - ETA: 16s - loss: 0.0492 - accuracy: 0.317 - ETA: 14s - loss: 0.0493 - accuracy: 0.315 - ETA: 12s - loss: 0.0493 - accuracy: 0.316 - ETA: 10s - loss: 0.0489 - accuracy: 0.317 - ETA: 8s - loss: 0.0488 - accuracy: 0.317 - ETA: 5s - loss: 0.0486 - accuracy: 0.32 - ETA: 3s - loss: 0.0483 - accuracy: 0.33 - ETA: 1s - loss: 0.0485 - accuracy: 0.33 - 44s 41ms/step - loss: 0.0484 - accuracy: 0.3302 - val_loss: 0.0526 - val_accuracy: 0.2576\n",
      "Epoch 8/10\n",
      "1072/1072 [==============================] - ETA: 35s - loss: 0.0499 - accuracy: 0.312 - ETA: 33s - loss: 0.0498 - accuracy: 0.335 - ETA: 32s - loss: 0.0498 - accuracy: 0.296 - ETA: 30s - loss: 0.0493 - accuracy: 0.293 - ETA: 27s - loss: 0.0496 - accuracy: 0.296 - ETA: 24s - loss: 0.0486 - accuracy: 0.307 - ETA: 21s - loss: 0.0483 - accuracy: 0.308 - ETA: 19s - loss: 0.0482 - accuracy: 0.308 - ETA: 16s - loss: 0.0481 - accuracy: 0.314 - ETA: 14s - loss: 0.0484 - accuracy: 0.309 - ETA: 12s - loss: 0.0484 - accuracy: 0.312 - ETA: 9s - loss: 0.0481 - accuracy: 0.317 - ETA: 7s - loss: 0.0482 - accuracy: 0.31 - ETA: 5s - loss: 0.0483 - accuracy: 0.31 - ETA: 3s - loss: 0.0482 - accuracy: 0.31 - ETA: 1s - loss: 0.0482 - accuracy: 0.31 - 42s 39ms/step - loss: 0.0481 - accuracy: 0.3144 - val_loss: 0.0526 - val_accuracy: 0.2614\n",
      "Epoch 9/10\n",
      "1072/1072 [==============================] - ETA: 29s - loss: 0.0504 - accuracy: 0.281 - ETA: 28s - loss: 0.0471 - accuracy: 0.335 - ETA: 27s - loss: 0.0471 - accuracy: 0.328 - ETA: 25s - loss: 0.0485 - accuracy: 0.300 - ETA: 23s - loss: 0.0480 - accuracy: 0.309 - ETA: 21s - loss: 0.0474 - accuracy: 0.322 - ETA: 19s - loss: 0.0473 - accuracy: 0.330 - ETA: 17s - loss: 0.0479 - accuracy: 0.330 - ETA: 15s - loss: 0.0472 - accuracy: 0.343 - ETA: 13s - loss: 0.0471 - accuracy: 0.345 - ETA: 11s - loss: 0.0473 - accuracy: 0.348 - ETA: 9s - loss: 0.0476 - accuracy: 0.339 - ETA: 7s - loss: 0.0479 - accuracy: 0.33 - ETA: 5s - loss: 0.0481 - accuracy: 0.33 - ETA: 3s - loss: 0.0482 - accuracy: 0.33 - ETA: 1s - loss: 0.0482 - accuracy: 0.33 - 40s 37ms/step - loss: 0.0479 - accuracy: 0.3377 - val_loss: 0.0518 - val_accuracy: 0.2481\n",
      "Epoch 10/10\n",
      "1072/1072 [==============================] - ETA: 34s - loss: 0.0462 - accuracy: 0.390 - ETA: 31s - loss: 0.0465 - accuracy: 0.375 - ETA: 29s - loss: 0.0458 - accuracy: 0.380 - ETA: 27s - loss: 0.0455 - accuracy: 0.382 - ETA: 24s - loss: 0.0461 - accuracy: 0.390 - ETA: 23s - loss: 0.0470 - accuracy: 0.367 - ETA: 21s - loss: 0.0471 - accuracy: 0.377 - ETA: 18s - loss: 0.0469 - accuracy: 0.384 - ETA: 16s - loss: 0.0470 - accuracy: 0.387 - ETA: 14s - loss: 0.0475 - accuracy: 0.375 - ETA: 12s - loss: 0.0473 - accuracy: 0.375 - ETA: 10s - loss: 0.0478 - accuracy: 0.365 - ETA: 8s - loss: 0.0476 - accuracy: 0.365 - ETA: 5s - loss: 0.0475 - accuracy: 0.36 - ETA: 3s - loss: 0.0476 - accuracy: 0.36 - ETA: 1s - loss: 0.0473 - accuracy: 0.36 - 44s 41ms/step - loss: 0.0472 - accuracy: 0.3647 - val_loss: 0.0533 - val_accuracy: 0.2538\n",
      "Test accuracy: 25.6875%\n"
     ]
    }
   ],
   "source": [
    "EPOCHS = 50\n",
    "# Compile the model\n",
    "model.compile(optimizer= 'adam', loss='mean_squared_error', metrics=['accuracy'])\n",
    "# Fit the model\n",
    "fit_model = model.fit(train_tensors, train_targets,epochs=EPOCHS, validation_split=0.33, batch_size=64,verbose=2)\n",
    "# Get index of predicted document for each image in test set\n",
    "predictions = [np.argmax(model.predict(np.expand_dims(tensor, axis=0))) for tensor in test_tensors]\n",
    "# Test accuracy\n",
    "test_accuracy = 100*np.sum(np.array(predictions)==np.argmax(test_targets, axis=1))/len(predictions)\n",
    "print('Test accuracy: %.4f%%' % test_accuracy)"
   ]
  },
  {
   "cell_type": "code",
   "execution_count": 22,
   "metadata": {},
   "outputs": [
    {
     "name": "stdout",
     "output_type": "stream",
     "text": [
      "dict_keys(['val_loss', 'val_accuracy', 'loss', 'accuracy'])\n"
     ]
    },
    {
     "data": {
      "image/png": "[encoded data removed]",
      "text/plain": [
       "<Figure size 432x288 with 1 Axes>"
      ]
     },
     "metadata": {
      "needs_background": "light"
     },
     "output_type": "display_data"
    },
    {
     "data": {
      "image/png": "[encoded data removed]",
      "text/plain": [
       "<Figure size 432x288 with 1 Axes>"
      ]
     },
     "metadata": {
      "needs_background": "light"
     },
     "output_type": "display_data"
    }
   ],
   "source": [
    "# summarize history for accuracy\n",
    "plt.plot(fit_model.history['accuracy'])\n",
    "plt.plot(fit_model.history['val_accuracy'])\n",
    "plt.title('model accuracy')\n",
    "plt.ylabel('accuracy')\n",
    "plt.xlabel('epoch')\n",
    "plt.legend(['train', 'test'], loc='upper left')\n",
    "plt.show()\n",
    "# summarize history for loss\n",
    "plt.plot(fit_model.history['loss'])\n",
    "plt.plot(fit_model.history['val_loss'])\n",
    "plt.title('model loss')\n",
    "plt.ylabel('loss')\n",
    "plt.xlabel('epoch')\n",
    "plt.legend(['train', 'test'], loc='upper left')\n",
    "plt.show()"
   ]
  },
  {
   "cell_type": "code",
   "execution_count": null,
   "metadata": {},
   "outputs": [],
   "source": []
  }
 ],
 "metadata": {
  "kernelspec": {
   "display_name": "Python 3",
   "language": "python",
   "name": "python3"
  },
  "language_info": {
   "codemirror_mode": {
    "name": "ipython",
    "version": 3
   },
   "file_extension": ".py",
   "mimetype": "text/x-python",
   "name": "python",
   "nbconvert_exporter": "python",
   "pygments_lexer": "ipython3",
   "version": "3.7.4"
  }
 },
 "nbformat": 4,
 "nbformat_minor": 2
}

{
 "cells": [
  {
   "cell_type": "code",
   "execution_count": 30,
   "metadata": {},
   "outputs": [],
   "source": [
    "import keras, os\n",
    "import numpy as np\n",
    "from keras.models import Model\n",
    "from keras.layers import Dense\n",
    "from keras import optimizers\n",
    "from keras.preprocessing.image import ImageDataGenerator\n",
    "from keras.preprocessing import image\n",
    "from keras.applications.vgg16 import VGG16"
   ]
  },
  {
   "cell_type": "code",
   "execution_count": 2,
   "metadata": {},
   "outputs": [],
   "source": [
    "path_to_train_folder = os.path.join(os.path.pardir, \"data\", \"train_images\")\n",
    "path_to_test_folder = os.path.join(os.path.pardir, \"data\", \"test_images\")\n",
    "path_to_validation_folder = os.path.join(os.path.pardir, \"data\", \"valid_images\")"
   ]
  },
  {
   "cell_type": "markdown",
   "metadata": {},
   "source": [
    "## Use ImageDataGenerator to import all the images to the model. ImageDataGenerator will automatically label the data and map all the labels to its specific data."
   ]
  },
  {
   "cell_type": "code",
   "execution_count": 12,
   "metadata": {},
   "outputs": [
    {
     "name": "stdout",
     "output_type": "stream",
     "text": [
      "Found 3200 images belonging to 16 classes.\n",
      "Found 1600 images belonging to 16 classes.\n",
      "Found 1600 images belonging to 16 classes.\n"
     ]
    }
   ],
   "source": [
    "trdata = ImageDataGenerator()\n",
    "traindata = trdata.flow_from_directory(directory=path_to_train_folder,target_size=(224,224))\n",
    "tsdata = ImageDataGenerator()\n",
    "testdata = tsdata.flow_from_directory(directory=path_to_test_folder, target_size=(224,224))\n",
    "valdata = ImageDataGenerator()\n",
    "validationdata = tsdata.flow_from_directory(directory=path_to_validation_folder, target_size=(224,224))"
   ]
  },
  {
   "cell_type": "markdown",
   "metadata": {},
   "source": [
    "## Import VGG16 from keras with pre-trained weights which was trained on imagenet"
   ]
  },
  {
   "cell_type": "code",
   "execution_count": 5,
   "metadata": {},
   "outputs": [],
   "source": [
    "vggmodel = VGG16(weights='imagenet', include_top=True)"
   ]
  },
  {
   "cell_type": "code",
   "execution_count": 6,
   "metadata": {},
   "outputs": [
    {
     "name": "stdout",
     "output_type": "stream",
     "text": [
      "Model: \"vgg16\"\n",
      "_________________________________________________________________\n",
      "Layer (type)                 Output Shape              Param #   \n",
      "=================================================================\n",
      "input_1 (InputLayer)         (None, 224, 224, 3)       0         \n",
      "_________________________________________________________________\n",
      "block1_conv1 (Conv2D)        (None, 224, 224, 64)      1792      \n",
      "_________________________________________________________________\n",
      "block1_conv2 (Conv2D)        (None, 224, 224, 64)      36928     \n",
      "_________________________________________________________________\n",
      "block1_pool (MaxPooling2D)   (None, 112, 112, 64)      0         \n",
      "_________________________________________________________________\n",
      "block2_conv1 (Conv2D)        (None, 112, 112, 128)     73856     \n",
      "_________________________________________________________________\n",
      "block2_conv2 (Conv2D)        (None, 112, 112, 128)     147584    \n",
      "_________________________________________________________________\n",
      "block2_pool (MaxPooling2D)   (None, 56, 56, 128)       0         \n",
      "_________________________________________________________________\n",
      "block3_conv1 (Conv2D)        (None, 56, 56, 256)       295168    \n",
      "_________________________________________________________________\n",
      "block3_conv2 (Conv2D)        (None, 56, 56, 256)       590080    \n",
      "_________________________________________________________________\n",
      "block3_conv3 (Conv2D)        (None, 56, 56, 256)       590080    \n",
      "_________________________________________________________________\n",
      "block3_pool (MaxPooling2D)   (None, 28, 28, 256)       0         \n",
      "_________________________________________________________________\n",
      "block4_conv1 (Conv2D)        (None, 28, 28, 512)       1180160   \n",
      "_________________________________________________________________\n",
      "block4_conv2 (Conv2D)        (None, 28, 28, 512)       2359808   \n",
      "_________________________________________________________________\n",
      "block4_conv3 (Conv2D)        (None, 28, 28, 512)       2359808   \n",
      "_________________________________________________________________\n",
      "block4_pool (MaxPooling2D)   (None, 14, 14, 512)       0         \n",
      "_________________________________________________________________\n",
      "block5_conv1 (Conv2D)        (None, 14, 14, 512)       2359808   \n",
      "_________________________________________________________________\n",
      "block5_conv2 (Conv2D)        (None, 14, 14, 512)       2359808   \n",
      "_________________________________________________________________\n",
      "block5_conv3 (Conv2D)        (None, 14, 14, 512)       2359808   \n",
      "_________________________________________________________________\n",
      "block5_pool (MaxPooling2D)   (None, 7, 7, 512)         0         \n",
      "_________________________________________________________________\n",
      "flatten (Flatten)            (None, 25088)             0         \n",
      "_________________________________________________________________\n",
      "fc1 (Dense)                  (None, 4096)              102764544 \n",
      "_________________________________________________________________\n",
      "fc2 (Dense)                  (None, 4096)              16781312  \n",
      "_________________________________________________________________\n",
      "predictions (Dense)          (None, 1000)              4097000   \n",
      "=================================================================\n",
      "Total params: 138,357,544\n",
      "Trainable params: 138,357,544\n",
      "Non-trainable params: 0\n",
      "_________________________________________________________________\n"
     ]
    }
   ],
   "source": [
    "vggmodel.summary()"
   ]
  },
  {
   "cell_type": "markdown",
   "metadata": {},
   "source": [
    "## Use the first 19 layers of the model as they are, no training needed"
   ]
  },
  {
   "cell_type": "code",
   "execution_count": 7,
   "metadata": {},
   "outputs": [
    {
     "name": "stdout",
     "output_type": "stream",
     "text": [
      "<keras.engine.input_layer.InputLayer object at 0x000001E71829C588>\n",
      "<keras.layers.convolutional.Conv2D object at 0x000001E718280748>\n",
      "<keras.layers.convolutional.Conv2D object at 0x000001E7182A4488>\n",
      "<keras.layers.pooling.MaxPooling2D object at 0x000001E7182A8B88>\n",
      "<keras.layers.convolutional.Conv2D object at 0x000001E7183B4FC8>\n",
      "<keras.layers.convolutional.Conv2D object at 0x000001E718639A08>\n",
      "<keras.layers.pooling.MaxPooling2D object at 0x000001E71828B748>\n",
      "<keras.layers.convolutional.Conv2D object at 0x000001E718644A88>\n",
      "<keras.layers.convolutional.Conv2D object at 0x000001E7182B96C8>\n",
      "<keras.layers.convolutional.Conv2D object at 0x000001E7182B9BC8>\n",
      "<keras.layers.pooling.MaxPooling2D object at 0x000001E71836FB48>\n",
      "<keras.layers.convolutional.Conv2D object at 0x000001E71836F7C8>\n",
      "<keras.layers.convolutional.Conv2D object at 0x000001E71835ED48>\n",
      "<keras.layers.convolutional.Conv2D object at 0x000001E718340188>\n",
      "<keras.layers.pooling.MaxPooling2D object at 0x000001E7182F1808>\n",
      "<keras.layers.convolutional.Conv2D object at 0x000001E7182FD308>\n",
      "<keras.layers.convolutional.Conv2D object at 0x000001E7182E86C8>\n",
      "<keras.layers.convolutional.Conv2D object at 0x000001E7183071C8>\n",
      "<keras.layers.pooling.MaxPooling2D object at 0x000001E71831B508>\n"
     ]
    }
   ],
   "source": [
    "for layers in (vggmodel.layers)[:19]:\n",
    "    print(layers)\n",
    "    layers.trainable = False"
   ]
  },
  {
   "cell_type": "markdown",
   "metadata": {},
   "source": [
    "## The last dense layer of the model should be a 16 unit softmax dense layer - because there are 16 typs of documents"
   ]
  },
  {
   "cell_type": "code",
   "execution_count": 8,
   "metadata": {},
   "outputs": [
    {
     "name": "stderr",
     "output_type": "stream",
     "text": [
      "C:\\Users\\Ioana\\Anaconda3\\lib\\site-packages\\ipykernel_launcher.py:3: UserWarning: Update your `Model` call to the Keras 2 API: `Model(inputs=Tensor(\"in..., outputs=Tensor(\"de...)`\n",
      "  This is separate from the ipykernel package so we can avoid doing imports until\n"
     ]
    }
   ],
   "source": [
    "X= vggmodel.layers[-2].output\n",
    "predictions = Dense(16, activation=\"softmax\")(X)\n",
    "model_final = Model(input = vggmodel.input, output = predictions)"
   ]
  },
  {
   "cell_type": "code",
   "execution_count": 20,
   "metadata": {},
   "outputs": [],
   "source": [
    "model_final.compile(loss = \"categorical_crossentropy\", optimizer = optimizers.SGD(lr=0.0001, momentum=0.9), metrics=[\"accuracy\"]) "
   ]
  },
  {
   "cell_type": "code",
   "execution_count": 21,
   "metadata": {},
   "outputs": [
    {
     "name": "stdout",
     "output_type": "stream",
     "text": [
      "Model: \"model_1\"\n",
      "_________________________________________________________________\n",
      "Layer (type)                 Output Shape              Param #   \n",
      "=================================================================\n",
      "input_1 (InputLayer)         (None, 224, 224, 3)       0         \n",
      "_________________________________________________________________\n",
      "block1_conv1 (Conv2D)        (None, 224, 224, 64)      1792      \n",
      "_________________________________________________________________\n",
      "block1_conv2 (Conv2D)        (None, 224, 224, 64)      36928     \n",
      "_________________________________________________________________\n",
      "block1_pool (MaxPooling2D)   (None, 112, 112, 64)      0         \n",
      "_________________________________________________________________\n",
      "block2_conv1 (Conv2D)        (None, 112, 112, 128)     73856     \n",
      "_________________________________________________________________\n",
      "block2_conv2 (Conv2D)        (None, 112, 112, 128)     147584    \n",
      "_________________________________________________________________\n",
      "block2_pool (MaxPooling2D)   (None, 56, 56, 128)       0         \n",
      "_________________________________________________________________\n",
      "block3_conv1 (Conv2D)        (None, 56, 56, 256)       295168    \n",
      "_________________________________________________________________\n",
      "block3_conv2 (Conv2D)        (None, 56, 56, 256)       590080    \n",
      "_________________________________________________________________\n",
      "block3_conv3 (Conv2D)        (None, 56, 56, 256)       590080    \n",
      "_________________________________________________________________\n",
      "block3_pool (MaxPooling2D)   (None, 28, 28, 256)       0         \n",
      "_________________________________________________________________\n",
      "block4_conv1 (Conv2D)        (None, 28, 28, 512)       1180160   \n",
      "_________________________________________________________________\n",
      "block4_conv2 (Conv2D)        (None, 28, 28, 512)       2359808   \n",
      "_________________________________________________________________\n",
      "block4_conv3 (Conv2D)        (None, 28, 28, 512)       2359808   \n",
      "_________________________________________________________________\n",
      "block4_pool (MaxPooling2D)   (None, 14, 14, 512)       0         \n",
      "_________________________________________________________________\n",
      "block5_conv1 (Conv2D)        (None, 14, 14, 512)       2359808   \n",
      "_________________________________________________________________\n",
      "block5_conv2 (Conv2D)        (None, 14, 14, 512)       2359808   \n",
      "_________________________________________________________________\n",
      "block5_conv3 (Conv2D)        (None, 14, 14, 512)       2359808   \n",
      "_________________________________________________________________\n",
      "block5_pool (MaxPooling2D)   (None, 7, 7, 512)         0         \n",
      "_________________________________________________________________\n",
      "flatten (Flatten)            (None, 25088)             0         \n",
      "_________________________________________________________________\n",
      "fc1 (Dense)                  (None, 4096)              102764544 \n",
      "_________________________________________________________________\n",
      "fc2 (Dense)                  (None, 4096)              16781312  \n",
      "_________________________________________________________________\n",
      "dense_1 (Dense)              (None, 16)                65552     \n",
      "=================================================================\n",
      "Total params: 134,326,096\n",
      "Trainable params: 119,611,408\n",
      "Non-trainable params: 14,714,688\n",
      "_________________________________________________________________\n"
     ]
    }
   ],
   "source": [
    "model_final.summary()"
   ]
  },
  {
   "cell_type": "code",
   "execution_count": 48,
   "metadata": {},
   "outputs": [
    {
     "name": "stdout",
     "output_type": "stream",
     "text": [
      "Epoch 1/10\n",
      "2/2 [==============================] - 50s 25s/step - loss: 1.8493 - accuracy: 0.4375 - val_loss: 1.4800 - val_accuracy: 0.5625\n",
      "\n",
      "Epoch 00001: val_accuracy improved from -inf to 0.56250, saving model to vgg16_1.h5\n",
      "Epoch 2/10\n",
      "2/2 [==============================] - 44s 22s/step - loss: 1.7233 - accuracy: 0.4688 - val_loss: 1.0679 - val_accuracy: 0.6875\n",
      "\n",
      "Epoch 00002: val_accuracy improved from 0.56250 to 0.68750, saving model to vgg16_1.h5\n",
      "Epoch 3/10\n",
      "2/2 [==============================] - 43s 21s/step - loss: 1.6580 - accuracy: 0.4531 - val_loss: 1.7962 - val_accuracy: 0.3750\n",
      "\n",
      "Epoch 00003: val_accuracy did not improve from 0.68750\n",
      "Epoch 4/10\n",
      "2/2 [==============================] - 44s 22s/step - loss: 1.3537 - accuracy: 0.5781 - val_loss: 1.9895 - val_accuracy: 0.3438\n",
      "\n",
      "Epoch 00004: val_accuracy did not improve from 0.68750\n",
      "Epoch 5/10\n",
      "2/2 [==============================] - 45s 22s/step - loss: 12.3739 - accuracy: 0.6094 - val_loss: 1.5193 - val_accuracy: 0.5000\n",
      "\n",
      "Epoch 00005: val_accuracy did not improve from 0.68750\n",
      "Epoch 6/10\n",
      "2/2 [==============================] - 43s 21s/step - loss: 1.6149 - accuracy: 0.5156 - val_loss: 1.7052 - val_accuracy: 0.5000\n",
      "\n",
      "Epoch 00006: val_accuracy did not improve from 0.68750\n",
      "Epoch 7/10\n",
      "2/2 [==============================] - 44s 22s/step - loss: 1.7777 - accuracy: 0.4375 - val_loss: 1.7471 - val_accuracy: 0.6875\n",
      "\n",
      "Epoch 00007: val_accuracy did not improve from 0.68750\n",
      "Epoch 8/10\n",
      "2/2 [==============================] - 44s 22s/step - loss: 1.8144 - accuracy: 0.4375 - val_loss: 1.8158 - val_accuracy: 0.4062\n",
      "\n",
      "Epoch 00008: val_accuracy did not improve from 0.68750\n",
      "Epoch 9/10\n",
      "2/2 [==============================] - 43s 21s/step - loss: 1.5200 - accuracy: 0.5156 - val_loss: 1.6276 - val_accuracy: 0.4688\n",
      "\n",
      "Epoch 00009: val_accuracy did not improve from 0.68750\n",
      "Epoch 10/10\n",
      "2/2 [==============================] - 45s 22s/step - loss: 1.3006 - accuracy: 0.5156 - val_loss: 1.7383 - val_accuracy: 0.4062\n",
      "\n",
      "Epoch 00010: val_accuracy did not improve from 0.68750\n"
     ]
    },
    {
     "data": {
      "text/plain": [
       "<keras.callbacks.callbacks.History at 0x1e7a99e1148>"
      ]
     },
     "execution_count": 48,
     "metadata": {},
     "output_type": "execute_result"
    }
   ],
   "source": [
    "from keras.callbacks import ModelCheckpoint, EarlyStopping\n",
    "checkpoint = ModelCheckpoint(\"vgg16_1.h5\", monitor='val_accuracy', verbose=1, save_best_only=True, save_weights_only=False, mode='auto', period=1)\n",
    "early = EarlyStopping(monitor='val_accuracy', min_delta=0, patience=40, verbose=1, mode='auto')\n",
    "model_final.fit_generator(generator= traindata, steps_per_epoch= 2, epochs= 10, validation_data = validationdata, validation_steps=1, callbacks=[checkpoint,early])"
   ]
  }
 ],
 "metadata": {
  "kernelspec": {
   "display_name": "Python 3",
   "language": "python",
   "name": "python3"
  },
  "language_info": {
   "codemirror_mode": {
    "name": "ipython",
    "version": 3
   },
   "file_extension": ".py",
   "mimetype": "text/x-python",
   "name": "python",
   "nbconvert_exporter": "python",
   "pygments_lexer": "ipython3",
   "version": "3.7.4"
  }
 },
 "nbformat": 4,
 "nbformat_minor": 2
}

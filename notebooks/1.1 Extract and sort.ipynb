{
 "cells": [
  {
   "cell_type": "markdown",
   "metadata": {},
   "source": [
    "### Imports"
   ]
  },
  {
   "cell_type": "code",
   "execution_count": 1,
   "metadata": {},
   "outputs": [],
   "source": [
    "# loading basic packages\n",
    "import pandas as pd\n",
    "import numpy as np\n",
    "import matplotlib.pyplot as plt\n",
    "import os, random\n",
    "import csv\n",
    "import cv2\n",
    "import shutil\n",
    "from pathlib import Path"
   ]
  },
  {
   "cell_type": "markdown",
   "metadata": {},
   "source": [
    "### Code formatting in Jupyter cells"
   ]
  },
  {
   "cell_type": "code",
   "execution_count": 2,
   "metadata": {},
   "outputs": [
    {
     "data": {
      "application/javascript": [
       "\n",
       "            setTimeout(function() {\n",
       "                var nbb_cell_id = 2;\n",
       "                var nbb_unformatted_code = \"%load_ext nb_black\";\n",
       "                var nbb_formatted_code = \"%load_ext nb_black\";\n",
       "                var nbb_cells = Jupyter.notebook.get_cells();\n",
       "                for (var i = 0; i < nbb_cells.length; ++i) {\n",
       "                    if (nbb_cells[i].input_prompt_number == nbb_cell_id) {\n",
       "                        if (nbb_cells[i].get_text() == nbb_unformatted_code) {\n",
       "                             nbb_cells[i].set_text(nbb_formatted_code);\n",
       "                        }\n",
       "                        break;\n",
       "                    }\n",
       "                }\n",
       "            }, 500);\n",
       "            "
      ],
      "text/plain": [
       "<IPython.core.display.Javascript object>"
      ]
     },
     "metadata": {},
     "output_type": "display_data"
    }
   ],
   "source": [
    "%load_ext nb_black"
   ]
  },
  {
   "cell_type": "markdown",
   "metadata": {},
   "source": [
    "### Constants"
   ]
  },
  {
   "cell_type": "code",
   "execution_count": 3,
   "metadata": {},
   "outputs": [
    {
     "data": {
      "application/javascript": [
       "\n",
       "            setTimeout(function() {\n",
       "                var nbb_cell_id = 3;\n",
       "                var nbb_unformatted_code = \"# path_to_all_images = os.path.join(os.path.pardir, \\\"images/\\\")\\npath_to_all_images = \\\"E:\\\\data science mini projects\\\\ML_interview_problem\\\\images\\\"\\n\\npath_to_train_folder = os.path.join(os.path.pardir, \\\"data\\\", \\\"train_images\\\")\\npath_to_test_folder = os.path.join(os.path.pardir, \\\"data\\\", \\\"test_images\\\")\\npath_to_validation_folder = os.path.join(os.path.pardir, \\\"data\\\", \\\"valid_images\\\")\";\n",
       "                var nbb_formatted_code = \"# path_to_all_images = os.path.join(os.path.pardir, \\\"images/\\\")\\npath_to_all_images = \\\"E:\\\\data science mini projects\\\\ML_interview_problem\\\\images\\\"\\n\\npath_to_train_folder = os.path.join(os.path.pardir, \\\"data\\\", \\\"train_images\\\")\\npath_to_test_folder = os.path.join(os.path.pardir, \\\"data\\\", \\\"test_images\\\")\\npath_to_validation_folder = os.path.join(os.path.pardir, \\\"data\\\", \\\"valid_images\\\")\";\n",
       "                var nbb_cells = Jupyter.notebook.get_cells();\n",
       "                for (var i = 0; i < nbb_cells.length; ++i) {\n",
       "                    if (nbb_cells[i].input_prompt_number == nbb_cell_id) {\n",
       "                        if (nbb_cells[i].get_text() == nbb_unformatted_code) {\n",
       "                             nbb_cells[i].set_text(nbb_formatted_code);\n",
       "                        }\n",
       "                        break;\n",
       "                    }\n",
       "                }\n",
       "            }, 500);\n",
       "            "
      ],
      "text/plain": [
       "<IPython.core.display.Javascript object>"
      ]
     },
     "metadata": {},
     "output_type": "display_data"
    }
   ],
   "source": [
    "path_to_all_images = os.path.join(os.path.pardir, \"images/\")\n",
    "\n",
    "path_to_train_folder = os.path.join(os.path.pardir, \"data\", \"train_images\")\n",
    "path_to_test_folder = os.path.join(os.path.pardir, \"data\", \"test_images\")\n",
    "path_to_validation_folder = os.path.join(os.path.pardir, \"data\", \"valid_images\")"
   ]
  },
  {
   "cell_type": "code",
   "execution_count": 4,
   "metadata": {},
   "outputs": [
    {
     "data": {
      "application/javascript": [
       "\n",
       "            setTimeout(function() {\n",
       "                var nbb_cell_id = 4;\n",
       "                var nbb_unformatted_code = \"class_name = {\\n    \\\"0\\\": \\\"letter\\\",\\n    \\\"1\\\": \\\"form\\\",\\n    \\\"2\\\": \\\"email\\\",\\n    \\\"3\\\": \\\"handwritten\\\",\\n    \\\"4\\\": \\\"advertisement\\\",\\n    \\\"5\\\": \\\"scientific report\\\",\\n    \\\"6\\\": \\\"scientific publication\\\",\\n    \\\"7\\\": \\\"specification\\\",\\n    \\\"8\\\": \\\"file folder\\\",\\n    \\\"9\\\": \\\"news article\\\",\\n    \\\"10\\\": \\\"budget\\\",\\n    \\\"11\\\": \\\"invoice\\\",\\n    \\\"12\\\": \\\"presentation\\\",\\n    \\\"13\\\": \\\"questionnaire\\\",\\n    \\\"14\\\": \\\"resume\\\",\\n    \\\"15\\\": \\\"memo\\\",\\n}\";\n",
       "                var nbb_formatted_code = \"class_name = {\\n    \\\"0\\\": \\\"letter\\\",\\n    \\\"1\\\": \\\"form\\\",\\n    \\\"2\\\": \\\"email\\\",\\n    \\\"3\\\": \\\"handwritten\\\",\\n    \\\"4\\\": \\\"advertisement\\\",\\n    \\\"5\\\": \\\"scientific report\\\",\\n    \\\"6\\\": \\\"scientific publication\\\",\\n    \\\"7\\\": \\\"specification\\\",\\n    \\\"8\\\": \\\"file folder\\\",\\n    \\\"9\\\": \\\"news article\\\",\\n    \\\"10\\\": \\\"budget\\\",\\n    \\\"11\\\": \\\"invoice\\\",\\n    \\\"12\\\": \\\"presentation\\\",\\n    \\\"13\\\": \\\"questionnaire\\\",\\n    \\\"14\\\": \\\"resume\\\",\\n    \\\"15\\\": \\\"memo\\\",\\n}\";\n",
       "                var nbb_cells = Jupyter.notebook.get_cells();\n",
       "                for (var i = 0; i < nbb_cells.length; ++i) {\n",
       "                    if (nbb_cells[i].input_prompt_number == nbb_cell_id) {\n",
       "                        if (nbb_cells[i].get_text() == nbb_unformatted_code) {\n",
       "                             nbb_cells[i].set_text(nbb_formatted_code);\n",
       "                        }\n",
       "                        break;\n",
       "                    }\n",
       "                }\n",
       "            }, 500);\n",
       "            "
      ],
      "text/plain": [
       "<IPython.core.display.Javascript object>"
      ]
     },
     "metadata": {},
     "output_type": "display_data"
    }
   ],
   "source": [
    "class_name = {\n",
    "    \"0\": \"letter\",\n",
    "    \"1\": \"form\",\n",
    "    \"2\": \"email\",\n",
    "    \"3\": \"handwritten\",\n",
    "    \"4\": \"advertisement\",\n",
    "    \"5\": \"scientific report\",\n",
    "    \"6\": \"scientific publication\",\n",
    "    \"7\": \"specification\",\n",
    "    \"8\": \"file folder\",\n",
    "    \"9\": \"news article\",\n",
    "    \"10\": \"budget\",\n",
    "    \"11\": \"invoice\",\n",
    "    \"12\": \"presentation\",\n",
    "    \"13\": \"questionnaire\",\n",
    "    \"14\": \"resume\",\n",
    "    \"15\": \"memo\",\n",
    "}"
   ]
  },
  {
   "cell_type": "markdown",
   "metadata": {},
   "source": [
    "## Train set"
   ]
  },
  {
   "cell_type": "code",
   "execution_count": 5,
   "metadata": {},
   "outputs": [
    {
     "data": {
      "application/javascript": [
       "\n",
       "            setTimeout(function() {\n",
       "                var nbb_cell_id = 5;\n",
       "                var nbb_unformatted_code = \"# converting .txt file to .csv file\\ndef convertTxtToCsv(txtfile):\\n    df = pd.read_csv(txtfile, sep=\\\" \\\")\\n    df.to_csv(csvfile)\";\n",
       "                var nbb_formatted_code = \"# converting .txt file to .csv file\\ndef convertTxtToCsv(txtfile):\\n    df = pd.read_csv(txtfile, sep=\\\" \\\")\\n    df.to_csv(csvfile)\";\n",
       "                var nbb_cells = Jupyter.notebook.get_cells();\n",
       "                for (var i = 0; i < nbb_cells.length; ++i) {\n",
       "                    if (nbb_cells[i].input_prompt_number == nbb_cell_id) {\n",
       "                        if (nbb_cells[i].get_text() == nbb_unformatted_code) {\n",
       "                             nbb_cells[i].set_text(nbb_formatted_code);\n",
       "                        }\n",
       "                        break;\n",
       "                    }\n",
       "                }\n",
       "            }, 500);\n",
       "            "
      ],
      "text/plain": [
       "<IPython.core.display.Javascript object>"
      ]
     },
     "metadata": {},
     "output_type": "display_data"
    }
   ],
   "source": [
    "# converting .txt file to .csv file\n",
    "def convertTxtToCsv(txtfile):\n",
    "    df = pd.read_csv(txtfile, sep=\" \")\n",
    "    df.to_csv(csvfile)"
   ]
  },
  {
   "cell_type": "code",
   "execution_count": 7,
   "metadata": {},
   "outputs": [
    {
     "data": {
      "application/javascript": [
       "\n",
       "            setTimeout(function() {\n",
       "                var nbb_cell_id = 7;\n",
       "                var nbb_unformatted_code = \"txtfile = os.path.join(os.path.pardir, \\\"labels\\\", \\\"train.txt\\\")\\ncsvfile = os.path.join(os.path.pardir, \\\"csv_files\\\", \\\"train.csv\\\")\\n\\nconvertTxtToCsv(txtfile)\";\n",
       "                var nbb_formatted_code = \"txtfile = os.path.join(os.path.pardir, \\\"labels\\\", \\\"train.txt\\\")\\ncsvfile = os.path.join(os.path.pardir, \\\"csv_files\\\", \\\"train.csv\\\")\\n\\nconvertTxtToCsv(txtfile)\";\n",
       "                var nbb_cells = Jupyter.notebook.get_cells();\n",
       "                for (var i = 0; i < nbb_cells.length; ++i) {\n",
       "                    if (nbb_cells[i].input_prompt_number == nbb_cell_id) {\n",
       "                        if (nbb_cells[i].get_text() == nbb_unformatted_code) {\n",
       "                             nbb_cells[i].set_text(nbb_formatted_code);\n",
       "                        }\n",
       "                        break;\n",
       "                    }\n",
       "                }\n",
       "            }, 500);\n",
       "            "
      ],
      "text/plain": [
       "<IPython.core.display.Javascript object>"
      ]
     },
     "metadata": {},
     "output_type": "display_data"
    }
   ],
   "source": [
    "txtfile = os.path.join(os.path.pardir, \"labels\", \"train.txt\")\n",
    "csvfile = os.path.join(os.path.pardir, \"csv_files\", \"train.csv\")\n",
    "\n",
    "convertTxtToCsv(txtfile)"
   ]
  },
  {
   "cell_type": "code",
   "execution_count": 8,
   "metadata": {},
   "outputs": [
    {
     "data": {
      "text/html": [
       "<div>\n",
       "<style scoped>\n",
       "    .dataframe tbody tr th:only-of-type {\n",
       "        vertical-align: middle;\n",
       "    }\n",
       "\n",
       "    .dataframe tbody tr th {\n",
       "        vertical-align: top;\n",
       "    }\n",
       "\n",
       "    .dataframe thead th {\n",
       "        text-align: right;\n",
       "    }\n",
       "</style>\n",
       "<table border=\"1\" class=\"dataframe\">\n",
       "  <thead>\n",
       "    <tr style=\"text-align: right;\">\n",
       "      <th></th>\n",
       "      <th>image</th>\n",
       "      <th>class</th>\n",
       "    </tr>\n",
       "  </thead>\n",
       "  <tbody>\n",
       "    <tr>\n",
       "      <td>0</td>\n",
       "      <td>imagesq/q/o/c/qoc54c00/80035521.tif</td>\n",
       "      <td>15</td>\n",
       "    </tr>\n",
       "    <tr>\n",
       "      <td>1</td>\n",
       "      <td>imagese/e/w/c/ewc23d00/513280028.tif</td>\n",
       "      <td>1</td>\n",
       "    </tr>\n",
       "    <tr>\n",
       "      <td>2</td>\n",
       "      <td>imagesw/w/b/t/wbt26e00/2053453161.tif</td>\n",
       "      <td>7</td>\n",
       "    </tr>\n",
       "    <tr>\n",
       "      <td>3</td>\n",
       "      <td>imagesm/m/k/m/mkm05e00/2040792992_2040792994.tif</td>\n",
       "      <td>10</td>\n",
       "    </tr>\n",
       "    <tr>\n",
       "      <td>4</td>\n",
       "      <td>imageso/o/e/x/oex80d00/522787731+-7732.tif</td>\n",
       "      <td>3</td>\n",
       "    </tr>\n",
       "  </tbody>\n",
       "</table>\n",
       "</div>"
      ],
      "text/plain": [
       "                                              image  class\n",
       "0               imagesq/q/o/c/qoc54c00/80035521.tif     15\n",
       "1              imagese/e/w/c/ewc23d00/513280028.tif      1\n",
       "2             imagesw/w/b/t/wbt26e00/2053453161.tif      7\n",
       "3  imagesm/m/k/m/mkm05e00/2040792992_2040792994.tif     10\n",
       "4        imageso/o/e/x/oex80d00/522787731+-7732.tif      3"
      ]
     },
     "execution_count": 8,
     "metadata": {},
     "output_type": "execute_result"
    },
    {
     "data": {
      "application/javascript": [
       "\n",
       "            setTimeout(function() {\n",
       "                var nbb_cell_id = 8;\n",
       "                var nbb_unformatted_code = \"# Loading data\\ndef loadData(csvfile):\\n    return pd.read_csv(csvfile, header=None, usecols=[1, 2], names=[\\\"image\\\", \\\"class\\\"])\\n\\n\\ndf = loadData(csvfile)\\ndf.head()\";\n",
       "                var nbb_formatted_code = \"# Loading data\\ndef loadData(csvfile):\\n    return pd.read_csv(csvfile, header=None, usecols=[1, 2], names=[\\\"image\\\", \\\"class\\\"])\\n\\n\\ndf = loadData(csvfile)\\ndf.head()\";\n",
       "                var nbb_cells = Jupyter.notebook.get_cells();\n",
       "                for (var i = 0; i < nbb_cells.length; ++i) {\n",
       "                    if (nbb_cells[i].input_prompt_number == nbb_cell_id) {\n",
       "                        if (nbb_cells[i].get_text() == nbb_unformatted_code) {\n",
       "                             nbb_cells[i].set_text(nbb_formatted_code);\n",
       "                        }\n",
       "                        break;\n",
       "                    }\n",
       "                }\n",
       "            }, 500);\n",
       "            "
      ],
      "text/plain": [
       "<IPython.core.display.Javascript object>"
      ]
     },
     "metadata": {},
     "output_type": "display_data"
    }
   ],
   "source": [
    "# Loading data\n",
    "def loadData(csvfile):\n",
    "    return pd.read_csv(csvfile, header=None, usecols=[1, 2], names=[\"image\", \"class\"])\n",
    "\n",
    "\n",
    "df = loadData(csvfile)\n",
    "df.head()"
   ]
  },
  {
   "cell_type": "code",
   "execution_count": 9,
   "metadata": {},
   "outputs": [
    {
     "data": {
      "application/javascript": [
       "\n",
       "            setTimeout(function() {\n",
       "                var nbb_cell_id = 9;\n",
       "                var nbb_unformatted_code = \"# take 200 images from each class for training\\ndef sampleImages(df, sampleNo):\\n    return (\\n        df.groupby(\\\"class\\\").apply(lambda x: x.sample(sampleNo)).reset_index(drop=True)\\n    )\\n\\n\\ndf = sampleImages(df, 200)\\ndf.to_csv(csvfile)\";\n",
       "                var nbb_formatted_code = \"# take 200 images from each class for training\\ndef sampleImages(df, sampleNo):\\n    return (\\n        df.groupby(\\\"class\\\").apply(lambda x: x.sample(sampleNo)).reset_index(drop=True)\\n    )\\n\\n\\ndf = sampleImages(df, 200)\\ndf.to_csv(csvfile)\";\n",
       "                var nbb_cells = Jupyter.notebook.get_cells();\n",
       "                for (var i = 0; i < nbb_cells.length; ++i) {\n",
       "                    if (nbb_cells[i].input_prompt_number == nbb_cell_id) {\n",
       "                        if (nbb_cells[i].get_text() == nbb_unformatted_code) {\n",
       "                             nbb_cells[i].set_text(nbb_formatted_code);\n",
       "                        }\n",
       "                        break;\n",
       "                    }\n",
       "                }\n",
       "            }, 500);\n",
       "            "
      ],
      "text/plain": [
       "<IPython.core.display.Javascript object>"
      ]
     },
     "metadata": {},
     "output_type": "display_data"
    }
   ],
   "source": [
    "# take 200 images from each class for training\n",
    "def sampleImages(df, sampleNo):\n",
    "    return (\n",
    "        df.groupby(\"class\").apply(lambda x: x.sample(sampleNo)).reset_index(drop=True)\n",
    "    )\n",
    "\n",
    "\n",
    "df = sampleImages(df, 200)\n",
    "df.to_csv(csvfile)"
   ]
  },
  {
   "cell_type": "code",
   "execution_count": 10,
   "metadata": {
    "scrolled": true
   },
   "outputs": [
    {
     "data": {
      "text/html": [
       "<div>\n",
       "<style scoped>\n",
       "    .dataframe tbody tr th:only-of-type {\n",
       "        vertical-align: middle;\n",
       "    }\n",
       "\n",
       "    .dataframe tbody tr th {\n",
       "        vertical-align: top;\n",
       "    }\n",
       "\n",
       "    .dataframe thead th {\n",
       "        text-align: right;\n",
       "    }\n",
       "</style>\n",
       "<table border=\"1\" class=\"dataframe\">\n",
       "  <thead>\n",
       "    <tr style=\"text-align: right;\">\n",
       "      <th></th>\n",
       "      <th>image</th>\n",
       "      <th>class</th>\n",
       "    </tr>\n",
       "  </thead>\n",
       "  <tbody>\n",
       "    <tr>\n",
       "      <td>0</td>\n",
       "      <td>imagesq/q/c/z/qcz89d00/500088319.tif</td>\n",
       "      <td>0</td>\n",
       "    </tr>\n",
       "    <tr>\n",
       "      <td>1</td>\n",
       "      <td>imagesv/v/n/n/vnn00a00/60020693.tif</td>\n",
       "      <td>0</td>\n",
       "    </tr>\n",
       "    <tr>\n",
       "      <td>2</td>\n",
       "      <td>imagesh/h/j/q/hjq96c00/70114304-4304.tif</td>\n",
       "      <td>0</td>\n",
       "    </tr>\n",
       "    <tr>\n",
       "      <td>3</td>\n",
       "      <td>imagesi/i/r/c/irc93f00/0000979946.tif</td>\n",
       "      <td>0</td>\n",
       "    </tr>\n",
       "    <tr>\n",
       "      <td>4</td>\n",
       "      <td>imagesw/w/j/r/wjr03c00/524592655+-2655.tif</td>\n",
       "      <td>0</td>\n",
       "    </tr>\n",
       "    <tr>\n",
       "      <td>...</td>\n",
       "      <td>...</td>\n",
       "      <td>...</td>\n",
       "    </tr>\n",
       "    <tr>\n",
       "      <td>3195</td>\n",
       "      <td>imagesj/j/m/k/jmk02d00/1338013.tif</td>\n",
       "      <td>15</td>\n",
       "    </tr>\n",
       "    <tr>\n",
       "      <td>3196</td>\n",
       "      <td>imagesv/v/z/k/vzk58c00/81745564_5569.tif</td>\n",
       "      <td>15</td>\n",
       "    </tr>\n",
       "    <tr>\n",
       "      <td>3197</td>\n",
       "      <td>imagesd/d/t/u/dtu83e00/2043616413_2043616417.tif</td>\n",
       "      <td>15</td>\n",
       "    </tr>\n",
       "    <tr>\n",
       "      <td>3198</td>\n",
       "      <td>imagesa/a/c/k/ack62d00/86253524_3528.tif</td>\n",
       "      <td>15</td>\n",
       "    </tr>\n",
       "    <tr>\n",
       "      <td>3199</td>\n",
       "      <td>imagesz/z/d/x/zdx99e00/0000058854.tif</td>\n",
       "      <td>15</td>\n",
       "    </tr>\n",
       "  </tbody>\n",
       "</table>\n",
       "<p>3200 rows × 2 columns</p>\n",
       "</div>"
      ],
      "text/plain": [
       "                                                 image  class\n",
       "0                 imagesq/q/c/z/qcz89d00/500088319.tif      0\n",
       "1                  imagesv/v/n/n/vnn00a00/60020693.tif      0\n",
       "2             imagesh/h/j/q/hjq96c00/70114304-4304.tif      0\n",
       "3                imagesi/i/r/c/irc93f00/0000979946.tif      0\n",
       "4           imagesw/w/j/r/wjr03c00/524592655+-2655.tif      0\n",
       "...                                                ...    ...\n",
       "3195                imagesj/j/m/k/jmk02d00/1338013.tif     15\n",
       "3196          imagesv/v/z/k/vzk58c00/81745564_5569.tif     15\n",
       "3197  imagesd/d/t/u/dtu83e00/2043616413_2043616417.tif     15\n",
       "3198          imagesa/a/c/k/ack62d00/86253524_3528.tif     15\n",
       "3199             imagesz/z/d/x/zdx99e00/0000058854.tif     15\n",
       "\n",
       "[3200 rows x 2 columns]"
      ]
     },
     "execution_count": 10,
     "metadata": {},
     "output_type": "execute_result"
    },
    {
     "data": {
      "application/javascript": [
       "\n",
       "            setTimeout(function() {\n",
       "                var nbb_cell_id = 10;\n",
       "                var nbb_unformatted_code = \"# df has only 3200 rows now (200 for each class)\\ndf\";\n",
       "                var nbb_formatted_code = \"# df has only 3200 rows now (200 for each class)\\ndf\";\n",
       "                var nbb_cells = Jupyter.notebook.get_cells();\n",
       "                for (var i = 0; i < nbb_cells.length; ++i) {\n",
       "                    if (nbb_cells[i].input_prompt_number == nbb_cell_id) {\n",
       "                        if (nbb_cells[i].get_text() == nbb_unformatted_code) {\n",
       "                             nbb_cells[i].set_text(nbb_formatted_code);\n",
       "                        }\n",
       "                        break;\n",
       "                    }\n",
       "                }\n",
       "            }, 500);\n",
       "            "
      ],
      "text/plain": [
       "<IPython.core.display.Javascript object>"
      ]
     },
     "metadata": {},
     "output_type": "display_data"
    }
   ],
   "source": [
    "# df has only 3200 rows now (200 for each class)\n",
    "df"
   ]
  },
  {
   "cell_type": "code",
   "execution_count": 11,
   "metadata": {},
   "outputs": [
    {
     "data": {
      "application/javascript": [
       "\n",
       "            setTimeout(function() {\n",
       "                var nbb_cell_id = 11;\n",
       "                var nbb_unformatted_code = \"def changeDatatypes(df):\\n    df[\\\"image\\\"] = df[\\\"image\\\"].astype(str)\\n    df[\\\"class\\\"] = df[\\\"class\\\"].astype(int)\\n\\n\\nchangeDatatypes(df)\";\n",
       "                var nbb_formatted_code = \"def changeDatatypes(df):\\n    df[\\\"image\\\"] = df[\\\"image\\\"].astype(str)\\n    df[\\\"class\\\"] = df[\\\"class\\\"].astype(int)\\n\\n\\nchangeDatatypes(df)\";\n",
       "                var nbb_cells = Jupyter.notebook.get_cells();\n",
       "                for (var i = 0; i < nbb_cells.length; ++i) {\n",
       "                    if (nbb_cells[i].input_prompt_number == nbb_cell_id) {\n",
       "                        if (nbb_cells[i].get_text() == nbb_unformatted_code) {\n",
       "                             nbb_cells[i].set_text(nbb_formatted_code);\n",
       "                        }\n",
       "                        break;\n",
       "                    }\n",
       "                }\n",
       "            }, 500);\n",
       "            "
      ],
      "text/plain": [
       "<IPython.core.display.Javascript object>"
      ]
     },
     "metadata": {},
     "output_type": "display_data"
    }
   ],
   "source": [
    "def changeDatatypes(df):\n",
    "    df[\"image\"] = df[\"image\"].astype(str)\n",
    "    df[\"class\"] = df[\"class\"].astype(int)\n",
    "\n",
    "\n",
    "changeDatatypes(df)"
   ]
  },
  {
   "cell_type": "code",
   "execution_count": 12,
   "metadata": {},
   "outputs": [
    {
     "data": {
      "application/javascript": [
       "\n",
       "            setTimeout(function() {\n",
       "                var nbb_cell_id = 12;\n",
       "                var nbb_unformatted_code = \"#create 'data' folder where we'll store the selected train, test and validaton images \\nos.mkdir('data')\\nos.chdir(os.path.join(os.path.pardir, \\\"data\\\"))\\nos.mkdir('train_images')\\nos.mkdir('test_images')\\nos.mkdir('valid_images')\";\n",
       "                var nbb_formatted_code = \"# create 'data' folder where we'll store the selected train, test and validaton images\\nos.mkdir(\\\"data\\\")\\nos.chdir(os.path.join(os.path.pardir, \\\"data\\\"))\\nos.mkdir(\\\"train_images\\\")\\nos.mkdir(\\\"test_images\\\")\\nos.mkdir(\\\"valid_images\\\")\";\n",
       "                var nbb_cells = Jupyter.notebook.get_cells();\n",
       "                for (var i = 0; i < nbb_cells.length; ++i) {\n",
       "                    if (nbb_cells[i].input_prompt_number == nbb_cell_id) {\n",
       "                        if (nbb_cells[i].get_text() == nbb_unformatted_code) {\n",
       "                             nbb_cells[i].set_text(nbb_formatted_code);\n",
       "                        }\n",
       "                        break;\n",
       "                    }\n",
       "                }\n",
       "            }, 500);\n",
       "            "
      ],
      "text/plain": [
       "<IPython.core.display.Javascript object>"
      ]
     },
     "metadata": {},
     "output_type": "display_data"
    }
   ],
   "source": [
    "# create 'data' folder where we'll store the selected train, test and validaton images\n",
    "os.mkdir(\"data\")\n",
    "os.chdir(os.path.join(os.path.pardir, \"data\"))\n",
    "os.mkdir(\"train_images\")\n",
    "os.mkdir(\"test_images\")\n",
    "os.mkdir(\"valid_images\")"
   ]
  },
  {
   "cell_type": "code",
   "execution_count": 13,
   "metadata": {},
   "outputs": [
    {
     "data": {
      "application/javascript": [
       "\n",
       "            setTimeout(function() {\n",
       "                var nbb_cell_id = 13;\n",
       "                var nbb_unformatted_code = \"# new directory where the 3200 images will be stored by category\\nos.chdir(path_to_train_folder)\\n\\n# create a subfolder for each category and copy each image to the correspondent subfolder\\ndef groupDocsByCtegory(df, path_to_folder):\\n    for i in range(16):\\n        os.mkdir(str(i))\\n    os.chdir(os.path.pardir)\\n\\n    for i in range(len(df)):\\n        for j in range(16):\\n            if df[\\\"class\\\"][i] == j:\\n                shutil.copy2(\\n                    path_to_all_images + \\\"/\\\" + df[\\\"image\\\"][i],\\n                    path_to_folder + \\\"/\\\" + str(j) + \\\"/\\\",\\n                )\\n            else:\\n                continue\\n\\n\\ngroupDocsByCtegory(df, path_to_train_folder)\";\n",
       "                var nbb_formatted_code = \"# new directory where the 3200 images will be stored by category\\nos.chdir(path_to_train_folder)\\n\\n# create a subfolder for each category and copy each image to the correspondent subfolder\\ndef groupDocsByCtegory(df, path_to_folder):\\n    for i in range(16):\\n        os.mkdir(str(i))\\n    os.chdir(os.path.pardir)\\n\\n    for i in range(len(df)):\\n        for j in range(16):\\n            if df[\\\"class\\\"][i] == j:\\n                shutil.copy2(\\n                    path_to_all_images + \\\"/\\\" + df[\\\"image\\\"][i],\\n                    path_to_folder + \\\"/\\\" + str(j) + \\\"/\\\",\\n                )\\n            else:\\n                continue\\n\\n\\ngroupDocsByCtegory(df, path_to_train_folder)\";\n",
       "                var nbb_cells = Jupyter.notebook.get_cells();\n",
       "                for (var i = 0; i < nbb_cells.length; ++i) {\n",
       "                    if (nbb_cells[i].input_prompt_number == nbb_cell_id) {\n",
       "                        if (nbb_cells[i].get_text() == nbb_unformatted_code) {\n",
       "                             nbb_cells[i].set_text(nbb_formatted_code);\n",
       "                        }\n",
       "                        break;\n",
       "                    }\n",
       "                }\n",
       "            }, 500);\n",
       "            "
      ],
      "text/plain": [
       "<IPython.core.display.Javascript object>"
      ]
     },
     "metadata": {},
     "output_type": "display_data"
    }
   ],
   "source": [
    "# new directory where the 3200 images will be stored by category\n",
    "os.chdir(path_to_train_folder)\n",
    "\n",
    "# create a subfolder for each category and copy each image to the correspondent subfolder\n",
    "def groupDocsByCtegory(df, path_to_folder):\n",
    "    for i in range(16):\n",
    "        os.mkdir(str(i))\n",
    "    os.chdir(os.path.pardir)\n",
    "\n",
    "    for i in range(len(df)):\n",
    "        for j in range(16):\n",
    "            if df[\"class\"][i] == j:\n",
    "                shutil.copy2(\n",
    "                    path_to_all_images + \"/\" + df[\"image\"][i],\n",
    "                    path_to_folder + \"/\" + str(j) + \"/\",\n",
    "                )\n",
    "            else:\n",
    "                continue\n",
    "\n",
    "\n",
    "groupDocsByCtegory(df, path_to_train_folder)"
   ]
  },
  {
   "cell_type": "code",
   "execution_count": 14,
   "metadata": {},
   "outputs": [
    {
     "data": {
      "application/javascript": [
       "\n",
       "            setTimeout(function() {\n",
       "                var nbb_cell_id = 14;\n",
       "                var nbb_unformatted_code = \"# rename each folder using the class name\\ndef renameFolders(df, path_to_folder):\\n    for j in class_name.keys():\\n        os.rename(\\n            path_to_folder + \\\"/\\\" + str(j), path_to_folder + \\\"/\\\" + class_name[j],\\n        )\\n\\n\\nrenameFolders(df, path_to_train_folder)\";\n",
       "                var nbb_formatted_code = \"# rename each folder using the class name\\ndef renameFolders(df, path_to_folder):\\n    for j in class_name.keys():\\n        os.rename(\\n            path_to_folder + \\\"/\\\" + str(j), path_to_folder + \\\"/\\\" + class_name[j],\\n        )\\n\\n\\nrenameFolders(df, path_to_train_folder)\";\n",
       "                var nbb_cells = Jupyter.notebook.get_cells();\n",
       "                for (var i = 0; i < nbb_cells.length; ++i) {\n",
       "                    if (nbb_cells[i].input_prompt_number == nbb_cell_id) {\n",
       "                        if (nbb_cells[i].get_text() == nbb_unformatted_code) {\n",
       "                             nbb_cells[i].set_text(nbb_formatted_code);\n",
       "                        }\n",
       "                        break;\n",
       "                    }\n",
       "                }\n",
       "            }, 500);\n",
       "            "
      ],
      "text/plain": [
       "<IPython.core.display.Javascript object>"
      ]
     },
     "metadata": {},
     "output_type": "display_data"
    }
   ],
   "source": [
    "# rename each folder using the class name\n",
    "def renameFolders(df, path_to_folder):\n",
    "    for j in class_name.keys():\n",
    "        os.rename(\n",
    "            path_to_folder + \"/\" + str(j), path_to_folder + \"/\" + class_name[j],\n",
    "        )\n",
    "\n",
    "\n",
    "renameFolders(df, path_to_train_folder)"
   ]
  },
  {
   "cell_type": "markdown",
   "metadata": {},
   "source": [
    "## Test set"
   ]
  },
  {
   "cell_type": "code",
   "execution_count": 15,
   "metadata": {},
   "outputs": [
    {
     "data": {
      "application/javascript": [
       "\n",
       "            setTimeout(function() {\n",
       "                var nbb_cell_id = 15;\n",
       "                var nbb_unformatted_code = \"# converting .txt file to .csv file\\ntxtfile = os.path.join(os.path.pardir, \\\"labels\\\", \\\"test.txt\\\")\\ncsvfile = os.path.join(os.path.pardir, \\\"csv_files\\\", \\\"test.csv\\\")\\n\\nconvertTxtToCsv(txtfile)\";\n",
       "                var nbb_formatted_code = \"# converting .txt file to .csv file\\ntxtfile = os.path.join(os.path.pardir, \\\"labels\\\", \\\"test.txt\\\")\\ncsvfile = os.path.join(os.path.pardir, \\\"csv_files\\\", \\\"test.csv\\\")\\n\\nconvertTxtToCsv(txtfile)\";\n",
       "                var nbb_cells = Jupyter.notebook.get_cells();\n",
       "                for (var i = 0; i < nbb_cells.length; ++i) {\n",
       "                    if (nbb_cells[i].input_prompt_number == nbb_cell_id) {\n",
       "                        if (nbb_cells[i].get_text() == nbb_unformatted_code) {\n",
       "                             nbb_cells[i].set_text(nbb_formatted_code);\n",
       "                        }\n",
       "                        break;\n",
       "                    }\n",
       "                }\n",
       "            }, 500);\n",
       "            "
      ],
      "text/plain": [
       "<IPython.core.display.Javascript object>"
      ]
     },
     "metadata": {},
     "output_type": "display_data"
    }
   ],
   "source": [
    "# converting .txt file to .csv file\n",
    "txtfile = os.path.join(os.path.pardir, \"labels\", \"test.txt\")\n",
    "csvfile = os.path.join(os.path.pardir, \"csv_files\", \"test.csv\")\n",
    "\n",
    "convertTxtToCsv(txtfile)"
   ]
  },
  {
   "cell_type": "code",
   "execution_count": 16,
   "metadata": {},
   "outputs": [
    {
     "data": {
      "text/html": [
       "<div>\n",
       "<style scoped>\n",
       "    .dataframe tbody tr th:only-of-type {\n",
       "        vertical-align: middle;\n",
       "    }\n",
       "\n",
       "    .dataframe tbody tr th {\n",
       "        vertical-align: top;\n",
       "    }\n",
       "\n",
       "    .dataframe thead th {\n",
       "        text-align: right;\n",
       "    }\n",
       "</style>\n",
       "<table border=\"1\" class=\"dataframe\">\n",
       "  <thead>\n",
       "    <tr style=\"text-align: right;\">\n",
       "      <th></th>\n",
       "      <th>image</th>\n",
       "      <th>class</th>\n",
       "    </tr>\n",
       "  </thead>\n",
       "  <tbody>\n",
       "    <tr>\n",
       "      <td>0</td>\n",
       "      <td>imagesr/r/g/e/rge31d00/503210033+-0034.tif</td>\n",
       "      <td>3</td>\n",
       "    </tr>\n",
       "    <tr>\n",
       "      <td>1</td>\n",
       "      <td>imagesc/c/e/j/cej80d00/517306722+-6724.tif</td>\n",
       "      <td>3</td>\n",
       "    </tr>\n",
       "    <tr>\n",
       "      <td>2</td>\n",
       "      <td>imagesm/m/r/r/mrr36d00/50603620-3621.tif</td>\n",
       "      <td>14</td>\n",
       "    </tr>\n",
       "    <tr>\n",
       "      <td>3</td>\n",
       "      <td>imagesg/g/t/u/gtu29c00/2084573574a.tif</td>\n",
       "      <td>2</td>\n",
       "    </tr>\n",
       "    <tr>\n",
       "      <td>4</td>\n",
       "      <td>imagesh/h/o/f/hof08d00/2071783492.tif</td>\n",
       "      <td>9</td>\n",
       "    </tr>\n",
       "  </tbody>\n",
       "</table>\n",
       "</div>"
      ],
      "text/plain": [
       "                                        image  class\n",
       "0  imagesr/r/g/e/rge31d00/503210033+-0034.tif      3\n",
       "1  imagesc/c/e/j/cej80d00/517306722+-6724.tif      3\n",
       "2    imagesm/m/r/r/mrr36d00/50603620-3621.tif     14\n",
       "3      imagesg/g/t/u/gtu29c00/2084573574a.tif      2\n",
       "4       imagesh/h/o/f/hof08d00/2071783492.tif      9"
      ]
     },
     "execution_count": 16,
     "metadata": {},
     "output_type": "execute_result"
    },
    {
     "data": {
      "application/javascript": [
       "\n",
       "            setTimeout(function() {\n",
       "                var nbb_cell_id = 16;\n",
       "                var nbb_unformatted_code = \"# Loading data\\ndf = loadData(csvfile)\\ndf.head()\";\n",
       "                var nbb_formatted_code = \"# Loading data\\ndf = loadData(csvfile)\\ndf.head()\";\n",
       "                var nbb_cells = Jupyter.notebook.get_cells();\n",
       "                for (var i = 0; i < nbb_cells.length; ++i) {\n",
       "                    if (nbb_cells[i].input_prompt_number == nbb_cell_id) {\n",
       "                        if (nbb_cells[i].get_text() == nbb_unformatted_code) {\n",
       "                             nbb_cells[i].set_text(nbb_formatted_code);\n",
       "                        }\n",
       "                        break;\n",
       "                    }\n",
       "                }\n",
       "            }, 500);\n",
       "            "
      ],
      "text/plain": [
       "<IPython.core.display.Javascript object>"
      ]
     },
     "metadata": {},
     "output_type": "display_data"
    }
   ],
   "source": [
    "# Loading data\n",
    "df = loadData(csvfile)\n",
    "df.head()"
   ]
  },
  {
   "cell_type": "code",
   "execution_count": 17,
   "metadata": {},
   "outputs": [
    {
     "data": {
      "text/html": [
       "<div>\n",
       "<style scoped>\n",
       "    .dataframe tbody tr th:only-of-type {\n",
       "        vertical-align: middle;\n",
       "    }\n",
       "\n",
       "    .dataframe tbody tr th {\n",
       "        vertical-align: top;\n",
       "    }\n",
       "\n",
       "    .dataframe thead th {\n",
       "        text-align: right;\n",
       "    }\n",
       "</style>\n",
       "<table border=\"1\" class=\"dataframe\">\n",
       "  <thead>\n",
       "    <tr style=\"text-align: right;\">\n",
       "      <th></th>\n",
       "      <th>image</th>\n",
       "      <th>class</th>\n",
       "    </tr>\n",
       "  </thead>\n",
       "  <tbody>\n",
       "    <tr>\n",
       "      <td>0</td>\n",
       "      <td>imagesw/w/s/y/wsy01c00/650486.tif</td>\n",
       "      <td>0</td>\n",
       "    </tr>\n",
       "    <tr>\n",
       "      <td>1</td>\n",
       "      <td>imagesw/w/w/g/wwg89d00/500261053.tif</td>\n",
       "      <td>0</td>\n",
       "    </tr>\n",
       "    <tr>\n",
       "      <td>2</td>\n",
       "      <td>imagesw/w/v/x/wvx09d00/502451788.tif</td>\n",
       "      <td>0</td>\n",
       "    </tr>\n",
       "    <tr>\n",
       "      <td>3</td>\n",
       "      <td>imagesa/a/h/p/ahp18e00/1001924328.tif</td>\n",
       "      <td>0</td>\n",
       "    </tr>\n",
       "    <tr>\n",
       "      <td>4</td>\n",
       "      <td>imagesz/z/r/c/zrc16c00/2024004763_4764.tif</td>\n",
       "      <td>0</td>\n",
       "    </tr>\n",
       "    <tr>\n",
       "      <td>...</td>\n",
       "      <td>...</td>\n",
       "      <td>...</td>\n",
       "    </tr>\n",
       "    <tr>\n",
       "      <td>1595</td>\n",
       "      <td>imagesy/y/c/d/ycd87e00/2046769244.tif</td>\n",
       "      <td>15</td>\n",
       "    </tr>\n",
       "    <tr>\n",
       "      <td>1596</td>\n",
       "      <td>imagesu/u/r/r/urr69c00/50176113-6113.tif</td>\n",
       "      <td>15</td>\n",
       "    </tr>\n",
       "    <tr>\n",
       "      <td>1597</td>\n",
       "      <td>imagesv/v/l/e/vle42f00/94009348.tif</td>\n",
       "      <td>15</td>\n",
       "    </tr>\n",
       "    <tr>\n",
       "      <td>1598</td>\n",
       "      <td>imagesn/n/f/c/nfc2aa00/10056109.tif</td>\n",
       "      <td>15</td>\n",
       "    </tr>\n",
       "    <tr>\n",
       "      <td>1599</td>\n",
       "      <td>imagesp/p/y/s/pys18e00/1003380507.tif</td>\n",
       "      <td>15</td>\n",
       "    </tr>\n",
       "  </tbody>\n",
       "</table>\n",
       "<p>1600 rows × 2 columns</p>\n",
       "</div>"
      ],
      "text/plain": [
       "                                           image  class\n",
       "0              imagesw/w/s/y/wsy01c00/650486.tif      0\n",
       "1           imagesw/w/w/g/wwg89d00/500261053.tif      0\n",
       "2           imagesw/w/v/x/wvx09d00/502451788.tif      0\n",
       "3          imagesa/a/h/p/ahp18e00/1001924328.tif      0\n",
       "4     imagesz/z/r/c/zrc16c00/2024004763_4764.tif      0\n",
       "...                                          ...    ...\n",
       "1595       imagesy/y/c/d/ycd87e00/2046769244.tif     15\n",
       "1596    imagesu/u/r/r/urr69c00/50176113-6113.tif     15\n",
       "1597         imagesv/v/l/e/vle42f00/94009348.tif     15\n",
       "1598         imagesn/n/f/c/nfc2aa00/10056109.tif     15\n",
       "1599       imagesp/p/y/s/pys18e00/1003380507.tif     15\n",
       "\n",
       "[1600 rows x 2 columns]"
      ]
     },
     "execution_count": 17,
     "metadata": {},
     "output_type": "execute_result"
    },
    {
     "data": {
      "application/javascript": [
       "\n",
       "            setTimeout(function() {\n",
       "                var nbb_cell_id = 17;\n",
       "                var nbb_unformatted_code = \"# take 100 images from each class for testing\\ndf = sampleImages(df, 100)\\ndf.to_csv(csvfile)\\nchangeDatatypes(df)\\ndf\";\n",
       "                var nbb_formatted_code = \"# take 100 images from each class for testing\\ndf = sampleImages(df, 100)\\ndf.to_csv(csvfile)\\nchangeDatatypes(df)\\ndf\";\n",
       "                var nbb_cells = Jupyter.notebook.get_cells();\n",
       "                for (var i = 0; i < nbb_cells.length; ++i) {\n",
       "                    if (nbb_cells[i].input_prompt_number == nbb_cell_id) {\n",
       "                        if (nbb_cells[i].get_text() == nbb_unformatted_code) {\n",
       "                             nbb_cells[i].set_text(nbb_formatted_code);\n",
       "                        }\n",
       "                        break;\n",
       "                    }\n",
       "                }\n",
       "            }, 500);\n",
       "            "
      ],
      "text/plain": [
       "<IPython.core.display.Javascript object>"
      ]
     },
     "metadata": {},
     "output_type": "display_data"
    }
   ],
   "source": [
    "# take 100 images from each class for testing\n",
    "df = sampleImages(df, 100)\n",
    "df.to_csv(csvfile)\n",
    "changeDatatypes(df)\n",
    "df"
   ]
  },
  {
   "cell_type": "code",
   "execution_count": 18,
   "metadata": {},
   "outputs": [
    {
     "data": {
      "application/javascript": [
       "\n",
       "            setTimeout(function() {\n",
       "                var nbb_cell_id = 18;\n",
       "                var nbb_unformatted_code = \"# new directory where the 1600 images will be stored by category\\nos.chdir(path_to_test_folder)\\ngroupDocsByCtegory(df, path_to_test_folder)\";\n",
       "                var nbb_formatted_code = \"# new directory where the 1600 images will be stored by category\\nos.chdir(path_to_test_folder)\\ngroupDocsByCtegory(df, path_to_test_folder)\";\n",
       "                var nbb_cells = Jupyter.notebook.get_cells();\n",
       "                for (var i = 0; i < nbb_cells.length; ++i) {\n",
       "                    if (nbb_cells[i].input_prompt_number == nbb_cell_id) {\n",
       "                        if (nbb_cells[i].get_text() == nbb_unformatted_code) {\n",
       "                             nbb_cells[i].set_text(nbb_formatted_code);\n",
       "                        }\n",
       "                        break;\n",
       "                    }\n",
       "                }\n",
       "            }, 500);\n",
       "            "
      ],
      "text/plain": [
       "<IPython.core.display.Javascript object>"
      ]
     },
     "metadata": {},
     "output_type": "display_data"
    }
   ],
   "source": [
    "# new directory where the 1600 images will be stored by category\n",
    "os.chdir(path_to_test_folder)\n",
    "groupDocsByCtegory(df, path_to_test_folder)"
   ]
  },
  {
   "cell_type": "code",
   "execution_count": 19,
   "metadata": {},
   "outputs": [
    {
     "data": {
      "application/javascript": [
       "\n",
       "            setTimeout(function() {\n",
       "                var nbb_cell_id = 19;\n",
       "                var nbb_unformatted_code = \"# rename each folder using the class name\\nrenameFolders(df, path_to_test_folder)\";\n",
       "                var nbb_formatted_code = \"# rename each folder using the class name\\nrenameFolders(df, path_to_test_folder)\";\n",
       "                var nbb_cells = Jupyter.notebook.get_cells();\n",
       "                for (var i = 0; i < nbb_cells.length; ++i) {\n",
       "                    if (nbb_cells[i].input_prompt_number == nbb_cell_id) {\n",
       "                        if (nbb_cells[i].get_text() == nbb_unformatted_code) {\n",
       "                             nbb_cells[i].set_text(nbb_formatted_code);\n",
       "                        }\n",
       "                        break;\n",
       "                    }\n",
       "                }\n",
       "            }, 500);\n",
       "            "
      ],
      "text/plain": [
       "<IPython.core.display.Javascript object>"
      ]
     },
     "metadata": {},
     "output_type": "display_data"
    }
   ],
   "source": [
    "# rename each folder using the class name\n",
    "renameFolders(df, path_to_test_folder)"
   ]
  },
  {
   "cell_type": "markdown",
   "metadata": {},
   "source": [
    "## Validation set"
   ]
  },
  {
   "cell_type": "code",
   "execution_count": 20,
   "metadata": {},
   "outputs": [
    {
     "data": {
      "application/javascript": [
       "\n",
       "            setTimeout(function() {\n",
       "                var nbb_cell_id = 20;\n",
       "                var nbb_unformatted_code = \"# converting .txt file to .csv file\\ntxtfile = os.path.join(os.path.pardir, \\\"labels\\\", \\\"val.txt\\\")\\ncsvfile = os.path.join(os.path.pardir, \\\"csv_files\\\", \\\"validation.csv\\\")\\n\\nconvertTxtToCsv(txtfile)\";\n",
       "                var nbb_formatted_code = \"# converting .txt file to .csv file\\ntxtfile = os.path.join(os.path.pardir, \\\"labels\\\", \\\"val.txt\\\")\\ncsvfile = os.path.join(os.path.pardir, \\\"csv_files\\\", \\\"validation.csv\\\")\\n\\nconvertTxtToCsv(txtfile)\";\n",
       "                var nbb_cells = Jupyter.notebook.get_cells();\n",
       "                for (var i = 0; i < nbb_cells.length; ++i) {\n",
       "                    if (nbb_cells[i].input_prompt_number == nbb_cell_id) {\n",
       "                        if (nbb_cells[i].get_text() == nbb_unformatted_code) {\n",
       "                             nbb_cells[i].set_text(nbb_formatted_code);\n",
       "                        }\n",
       "                        break;\n",
       "                    }\n",
       "                }\n",
       "            }, 500);\n",
       "            "
      ],
      "text/plain": [
       "<IPython.core.display.Javascript object>"
      ]
     },
     "metadata": {},
     "output_type": "display_data"
    }
   ],
   "source": [
    "# converting .txt file to .csv file\n",
    "txtfile = os.path.join(os.path.pardir, \"labels\", \"val.txt\")\n",
    "csvfile = os.path.join(os.path.pardir, \"csv_files\", \"validation.csv\")\n",
    "\n",
    "convertTxtToCsv(txtfile)"
   ]
  },
  {
   "cell_type": "code",
   "execution_count": 21,
   "metadata": {},
   "outputs": [
    {
     "data": {
      "text/html": [
       "<div>\n",
       "<style scoped>\n",
       "    .dataframe tbody tr th:only-of-type {\n",
       "        vertical-align: middle;\n",
       "    }\n",
       "\n",
       "    .dataframe tbody tr th {\n",
       "        vertical-align: top;\n",
       "    }\n",
       "\n",
       "    .dataframe thead th {\n",
       "        text-align: right;\n",
       "    }\n",
       "</style>\n",
       "<table border=\"1\" class=\"dataframe\">\n",
       "  <thead>\n",
       "    <tr style=\"text-align: right;\">\n",
       "      <th></th>\n",
       "      <th>image</th>\n",
       "      <th>class</th>\n",
       "    </tr>\n",
       "  </thead>\n",
       "  <tbody>\n",
       "    <tr>\n",
       "      <td>0</td>\n",
       "      <td>imagesg/g/t/h/gth35e00/2024525661.tif</td>\n",
       "      <td>11</td>\n",
       "    </tr>\n",
       "    <tr>\n",
       "      <td>1</td>\n",
       "      <td>imagesi/i/y/k/iyk38c00/512015827+-5827.tif</td>\n",
       "      <td>0</td>\n",
       "    </tr>\n",
       "    <tr>\n",
       "      <td>2</td>\n",
       "      <td>imagesr/r/r/e/rre21e00/87103403.tif</td>\n",
       "      <td>0</td>\n",
       "    </tr>\n",
       "    <tr>\n",
       "      <td>3</td>\n",
       "      <td>imagesk/k/s/u/ksu44c00/03636607.tif</td>\n",
       "      <td>4</td>\n",
       "    </tr>\n",
       "    <tr>\n",
       "      <td>4</td>\n",
       "      <td>imagesr/r/a/i/rai09d00/50437856-7857.tif</td>\n",
       "      <td>14</td>\n",
       "    </tr>\n",
       "  </tbody>\n",
       "</table>\n",
       "</div>"
      ],
      "text/plain": [
       "                                        image  class\n",
       "0       imagesg/g/t/h/gth35e00/2024525661.tif     11\n",
       "1  imagesi/i/y/k/iyk38c00/512015827+-5827.tif      0\n",
       "2         imagesr/r/r/e/rre21e00/87103403.tif      0\n",
       "3         imagesk/k/s/u/ksu44c00/03636607.tif      4\n",
       "4    imagesr/r/a/i/rai09d00/50437856-7857.tif     14"
      ]
     },
     "execution_count": 21,
     "metadata": {},
     "output_type": "execute_result"
    },
    {
     "data": {
      "application/javascript": [
       "\n",
       "            setTimeout(function() {\n",
       "                var nbb_cell_id = 21;\n",
       "                var nbb_unformatted_code = \"# Loading data\\ndf = loadData(csvfile)\\ndf.head()\";\n",
       "                var nbb_formatted_code = \"# Loading data\\ndf = loadData(csvfile)\\ndf.head()\";\n",
       "                var nbb_cells = Jupyter.notebook.get_cells();\n",
       "                for (var i = 0; i < nbb_cells.length; ++i) {\n",
       "                    if (nbb_cells[i].input_prompt_number == nbb_cell_id) {\n",
       "                        if (nbb_cells[i].get_text() == nbb_unformatted_code) {\n",
       "                             nbb_cells[i].set_text(nbb_formatted_code);\n",
       "                        }\n",
       "                        break;\n",
       "                    }\n",
       "                }\n",
       "            }, 500);\n",
       "            "
      ],
      "text/plain": [
       "<IPython.core.display.Javascript object>"
      ]
     },
     "metadata": {},
     "output_type": "display_data"
    }
   ],
   "source": [
    "# Loading data\n",
    "df = loadData(csvfile)\n",
    "df.head()"
   ]
  },
  {
   "cell_type": "code",
   "execution_count": 22,
   "metadata": {},
   "outputs": [
    {
     "data": {
      "text/html": [
       "<div>\n",
       "<style scoped>\n",
       "    .dataframe tbody tr th:only-of-type {\n",
       "        vertical-align: middle;\n",
       "    }\n",
       "\n",
       "    .dataframe tbody tr th {\n",
       "        vertical-align: top;\n",
       "    }\n",
       "\n",
       "    .dataframe thead th {\n",
       "        text-align: right;\n",
       "    }\n",
       "</style>\n",
       "<table border=\"1\" class=\"dataframe\">\n",
       "  <thead>\n",
       "    <tr style=\"text-align: right;\">\n",
       "      <th></th>\n",
       "      <th>image</th>\n",
       "      <th>class</th>\n",
       "    </tr>\n",
       "  </thead>\n",
       "  <tbody>\n",
       "    <tr>\n",
       "      <td>0</td>\n",
       "      <td>imagesq/q/e/f/qef83d00/509107124_509107125.tif</td>\n",
       "      <td>0</td>\n",
       "    </tr>\n",
       "    <tr>\n",
       "      <td>1</td>\n",
       "      <td>imagesc/c/e/y/cey60f00/0011973382.tif</td>\n",
       "      <td>0</td>\n",
       "    </tr>\n",
       "    <tr>\n",
       "      <td>2</td>\n",
       "      <td>imagesj/j/b/c/jbc83f00/0001142419.tif</td>\n",
       "      <td>0</td>\n",
       "    </tr>\n",
       "    <tr>\n",
       "      <td>3</td>\n",
       "      <td>imagesh/h/j/s/hjs72f00/tob08901.15.tif</td>\n",
       "      <td>0</td>\n",
       "    </tr>\n",
       "    <tr>\n",
       "      <td>4</td>\n",
       "      <td>imagesr/r/l/r/rlr00e00/87037478_87037479.tif</td>\n",
       "      <td>0</td>\n",
       "    </tr>\n",
       "    <tr>\n",
       "      <td>...</td>\n",
       "      <td>...</td>\n",
       "      <td>...</td>\n",
       "    </tr>\n",
       "    <tr>\n",
       "      <td>1595</td>\n",
       "      <td>imagesm/m/j/c/mjc83f00/0001142315.tif</td>\n",
       "      <td>15</td>\n",
       "    </tr>\n",
       "    <tr>\n",
       "      <td>1596</td>\n",
       "      <td>imagesa/a/s/v/asv92e00/2049300700.tif</td>\n",
       "      <td>15</td>\n",
       "    </tr>\n",
       "    <tr>\n",
       "      <td>1597</td>\n",
       "      <td>imagesd/d/a/a/daa60e00/82918269_82918274.tif</td>\n",
       "      <td>15</td>\n",
       "    </tr>\n",
       "    <tr>\n",
       "      <td>1598</td>\n",
       "      <td>imagesj/j/d/f/jdf89e00/0000107579.tif</td>\n",
       "      <td>15</td>\n",
       "    </tr>\n",
       "    <tr>\n",
       "      <td>1599</td>\n",
       "      <td>imagesr/r/w/p/rwp35a00/96679716_9721.tif</td>\n",
       "      <td>15</td>\n",
       "    </tr>\n",
       "  </tbody>\n",
       "</table>\n",
       "<p>1600 rows × 2 columns</p>\n",
       "</div>"
      ],
      "text/plain": [
       "                                               image  class\n",
       "0     imagesq/q/e/f/qef83d00/509107124_509107125.tif      0\n",
       "1              imagesc/c/e/y/cey60f00/0011973382.tif      0\n",
       "2              imagesj/j/b/c/jbc83f00/0001142419.tif      0\n",
       "3             imagesh/h/j/s/hjs72f00/tob08901.15.tif      0\n",
       "4       imagesr/r/l/r/rlr00e00/87037478_87037479.tif      0\n",
       "...                                              ...    ...\n",
       "1595           imagesm/m/j/c/mjc83f00/0001142315.tif     15\n",
       "1596           imagesa/a/s/v/asv92e00/2049300700.tif     15\n",
       "1597    imagesd/d/a/a/daa60e00/82918269_82918274.tif     15\n",
       "1598           imagesj/j/d/f/jdf89e00/0000107579.tif     15\n",
       "1599        imagesr/r/w/p/rwp35a00/96679716_9721.tif     15\n",
       "\n",
       "[1600 rows x 2 columns]"
      ]
     },
     "execution_count": 22,
     "metadata": {},
     "output_type": "execute_result"
    },
    {
     "data": {
      "application/javascript": [
       "\n",
       "            setTimeout(function() {\n",
       "                var nbb_cell_id = 22;\n",
       "                var nbb_unformatted_code = \"# take 100 images from each class for validating\\ndf = sampleImages(df, 100)\\ndf.to_csv(csvfile)\\nchangeDatatypes(df)\\ndf\";\n",
       "                var nbb_formatted_code = \"# take 100 images from each class for validating\\ndf = sampleImages(df, 100)\\ndf.to_csv(csvfile)\\nchangeDatatypes(df)\\ndf\";\n",
       "                var nbb_cells = Jupyter.notebook.get_cells();\n",
       "                for (var i = 0; i < nbb_cells.length; ++i) {\n",
       "                    if (nbb_cells[i].input_prompt_number == nbb_cell_id) {\n",
       "                        if (nbb_cells[i].get_text() == nbb_unformatted_code) {\n",
       "                             nbb_cells[i].set_text(nbb_formatted_code);\n",
       "                        }\n",
       "                        break;\n",
       "                    }\n",
       "                }\n",
       "            }, 500);\n",
       "            "
      ],
      "text/plain": [
       "<IPython.core.display.Javascript object>"
      ]
     },
     "metadata": {},
     "output_type": "display_data"
    }
   ],
   "source": [
    "# take 100 images from each class for validating\n",
    "df = sampleImages(df, 100)\n",
    "df.to_csv(csvfile)\n",
    "changeDatatypes(df)\n",
    "df"
   ]
  },
  {
   "cell_type": "code",
   "execution_count": 23,
   "metadata": {},
   "outputs": [
    {
     "data": {
      "application/javascript": [
       "\n",
       "            setTimeout(function() {\n",
       "                var nbb_cell_id = 23;\n",
       "                var nbb_unformatted_code = \"# new directory where the 1600 images will be stored by category\\nos.chdir(path_to_validation_folder)\\ngroupDocsByCtegory(df, path_to_validation_folder)\";\n",
       "                var nbb_formatted_code = \"# new directory where the 1600 images will be stored by category\\nos.chdir(path_to_validation_folder)\\ngroupDocsByCtegory(df, path_to_validation_folder)\";\n",
       "                var nbb_cells = Jupyter.notebook.get_cells();\n",
       "                for (var i = 0; i < nbb_cells.length; ++i) {\n",
       "                    if (nbb_cells[i].input_prompt_number == nbb_cell_id) {\n",
       "                        if (nbb_cells[i].get_text() == nbb_unformatted_code) {\n",
       "                             nbb_cells[i].set_text(nbb_formatted_code);\n",
       "                        }\n",
       "                        break;\n",
       "                    }\n",
       "                }\n",
       "            }, 500);\n",
       "            "
      ],
      "text/plain": [
       "<IPython.core.display.Javascript object>"
      ]
     },
     "metadata": {},
     "output_type": "display_data"
    }
   ],
   "source": [
    "# new directory where the 1600 images will be stored by category\n",
    "os.chdir(path_to_validation_folder)\n",
    "groupDocsByCtegory(df, path_to_validation_folder)"
   ]
  },
  {
   "cell_type": "code",
   "execution_count": 24,
   "metadata": {},
   "outputs": [
    {
     "data": {
      "application/javascript": [
       "\n",
       "            setTimeout(function() {\n",
       "                var nbb_cell_id = 24;\n",
       "                var nbb_unformatted_code = \"# rename each folder using the class name\\nrenameFolders(df, path_to_validation_folder)\";\n",
       "                var nbb_formatted_code = \"# rename each folder using the class name\\nrenameFolders(df, path_to_validation_folder)\";\n",
       "                var nbb_cells = Jupyter.notebook.get_cells();\n",
       "                for (var i = 0; i < nbb_cells.length; ++i) {\n",
       "                    if (nbb_cells[i].input_prompt_number == nbb_cell_id) {\n",
       "                        if (nbb_cells[i].get_text() == nbb_unformatted_code) {\n",
       "                             nbb_cells[i].set_text(nbb_formatted_code);\n",
       "                        }\n",
       "                        break;\n",
       "                    }\n",
       "                }\n",
       "            }, 500);\n",
       "            "
      ],
      "text/plain": [
       "<IPython.core.display.Javascript object>"
      ]
     },
     "metadata": {},
     "output_type": "display_data"
    }
   ],
   "source": [
    "# rename each folder using the class name\n",
    "renameFolders(df, path_to_validation_folder)"
   ]
  }
 ],
 "metadata": {
  "kernelspec": {
   "display_name": "Python 3",
   "language": "python",
   "name": "python3"
  },
  "language_info": {
   "codemirror_mode": {
    "name": "ipython",
    "version": 3
   },
   "file_extension": ".py",
   "mimetype": "text/x-python",
   "name": "python",
   "nbconvert_exporter": "python",
   "pygments_lexer": "ipython3",
   "version": "3.7.4"
  }
 },
 "nbformat": 4,
 "nbformat_minor": 2
}
